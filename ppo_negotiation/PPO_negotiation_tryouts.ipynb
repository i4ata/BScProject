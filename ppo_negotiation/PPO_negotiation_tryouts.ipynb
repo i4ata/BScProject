{
 "cells": [
  {
   "cell_type": "code",
   "execution_count": 1,
   "id": "03fe22d6",
   "metadata": {},
   "outputs": [
    {
     "name": "stdout",
     "output_type": "stream",
     "text": [
      "Python 3.7.16\r\n"
     ]
    }
   ],
   "source": [
    "!python --version"
   ]
  },
  {
   "cell_type": "code",
   "execution_count": 1,
   "id": "019a4f08",
   "metadata": {},
   "outputs": [],
   "source": [
    "from Agent import Agent\n",
    "\n",
    "import os\n",
    "os.chdir(\"..\")\n",
    "from rice import Rice"
   ]
  },
  {
   "cell_type": "code",
   "execution_count": 2,
   "id": "01ca6def",
   "metadata": {},
   "outputs": [],
   "source": [
    "env = Rice(region_yamls_filename='fewer_region_yamls/')\n",
    "initial_state = env.reset()"
   ]
  },
  {
   "cell_type": "code",
   "execution_count": 3,
   "id": "a832857a",
   "metadata": {},
   "outputs": [
    {
     "data": {
      "text/plain": [
       "(4, 11, 10)"
      ]
     },
     "execution_count": 3,
     "metadata": {},
     "output_type": "execute_result"
    }
   ],
   "source": [
    "env.promises.shape"
   ]
  },
  {
   "cell_type": "code",
   "execution_count": null,
   "id": "c38db986",
   "metadata": {},
   "outputs": [],
   "source": [
    "agent0 = Agent(env, initial_state[0])"
   ]
  },
  {
   "cell_type": "code",
   "execution_count": 4,
   "id": "11da9e81",
   "metadata": {},
   "outputs": [
    {
     "data": {
      "text/plain": [
       "{0: MultiDiscrete([10 10 10 10 10 10 10 10 10 10 10]),\n",
       " 1: MultiDiscrete([10 10 10 10 10 10 10 10 10 10 10]),\n",
       " 2: MultiDiscrete([10 10 10 10 10 10 10 10 10 10 10]),\n",
       " 3: MultiDiscrete([10 10 10 10 10 10 10 10 10 10 10])}"
      ]
     },
     "execution_count": 4,
     "metadata": {},
     "output_type": "execute_result"
    }
   ],
   "source": [
    "env.action_space"
   ]
  },
  {
   "cell_type": "code",
   "execution_count": 10,
   "id": "9e9625de",
   "metadata": {},
   "outputs": [
    {
     "data": {
      "text/plain": [
       "ActivityNet(\n",
       "  (actor_layers): Sequential(\n",
       "    (0): Linear(in_features=77, out_features=64, bias=True)\n",
       "    (1): Tanh()\n",
       "    (2): Linear(in_features=64, out_features=64, bias=True)\n",
       "    (3): Tanh()\n",
       "    (4): Linear(in_features=64, out_features=64, bias=True)\n",
       "    (5): Tanh()\n",
       "  )\n",
       "  (actor_heads): ModuleList(\n",
       "    (0): Linear(in_features=64, out_features=10, bias=True)\n",
       "    (1): Linear(in_features=64, out_features=10, bias=True)\n",
       "    (2): Linear(in_features=64, out_features=10, bias=True)\n",
       "    (3): Linear(in_features=64, out_features=10, bias=True)\n",
       "    (4): Linear(in_features=64, out_features=10, bias=True)\n",
       "    (5): Linear(in_features=64, out_features=10, bias=True)\n",
       "    (6): Linear(in_features=64, out_features=10, bias=True)\n",
       "    (7): Linear(in_features=64, out_features=10, bias=True)\n",
       "    (8): Linear(in_features=64, out_features=10, bias=True)\n",
       "    (9): Linear(in_features=64, out_features=10, bias=True)\n",
       "    (10): Linear(in_features=64, out_features=10, bias=True)\n",
       "  )\n",
       "  (critic): Sequential(\n",
       "    (0): Linear(in_features=77, out_features=64, bias=True)\n",
       "    (1): Tanh()\n",
       "    (2): Linear(in_features=64, out_features=64, bias=True)\n",
       "    (3): Tanh()\n",
       "    (4): Linear(in_features=64, out_features=1, bias=True)\n",
       "  )\n",
       ")"
      ]
     },
     "execution_count": 10,
     "metadata": {},
     "output_type": "execute_result"
    }
   ],
   "source": [
    "agent0.activityNet.policy"
   ]
  },
  {
   "cell_type": "code",
   "execution_count": 11,
   "id": "6aa3d45e",
   "metadata": {},
   "outputs": [
    {
     "data": {
      "text/plain": [
       "DecisionNet(\n",
       "  (actor): Sequential(\n",
       "    (0): Linear(in_features=957, out_features=64, bias=True)\n",
       "    (1): Tanh()\n",
       "    (2): Linear(in_features=64, out_features=64, bias=True)\n",
       "    (3): Tanh()\n",
       "    (4): Linear(in_features=64, out_features=3, bias=True)\n",
       "    (5): Sigmoid()\n",
       "  )\n",
       "  (critic): Sequential(\n",
       "    (0): Linear(in_features=957, out_features=64, bias=True)\n",
       "    (1): Tanh()\n",
       "    (2): Linear(in_features=64, out_features=64, bias=True)\n",
       "    (3): Tanh()\n",
       "    (4): Linear(in_features=64, out_features=1, bias=True)\n",
       "  )\n",
       ")"
      ]
     },
     "execution_count": 11,
     "metadata": {},
     "output_type": "execute_result"
    }
   ],
   "source": [
    "agent0.decisionNet.policy"
   ]
  },
  {
   "cell_type": "code",
   "execution_count": null,
   "id": "b3e7358e",
   "metadata": {},
   "outputs": [],
   "source": [
    "agent0.activityNet.policy.act_stochastically()"
   ]
  }
 ],
 "metadata": {
  "kernelspec": {
   "display_name": "Python 3 (ipykernel)",
   "language": "python",
   "name": "python3"
  },
  "language_info": {
   "codemirror_mode": {
    "name": "ipython",
    "version": 3
   },
   "file_extension": ".py",
   "mimetype": "text/x-python",
   "name": "python",
   "nbconvert_exporter": "python",
   "pygments_lexer": "ipython3",
   "version": "3.10.6"
  }
 },
 "nbformat": 4,
 "nbformat_minor": 5
}
