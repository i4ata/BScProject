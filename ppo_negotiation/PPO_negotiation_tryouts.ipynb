{
 "cells": [
  {
   "cell_type": "code",
   "execution_count": 1,
   "id": "03fe22d6",
   "metadata": {},
   "outputs": [
    {
     "name": "stdout",
     "output_type": "stream",
     "text": [
      "Python 3.7.16\r\n"
     ]
    }
   ],
   "source": [
    "!python --version"
   ]
  },
  {
   "cell_type": "code",
   "execution_count": 1,
   "id": "019a4f08",
   "metadata": {},
   "outputs": [],
   "source": [
    "from Agent import Agent\n",
    "\n",
    "import torch\n",
    "import numpy as np\n",
    "\n",
    "import os\n",
    "os.chdir(\"..\")\n",
    "from rice import Rice"
   ]
  },
  {
   "cell_type": "code",
   "execution_count": 2,
   "id": "01ca6def",
   "metadata": {},
   "outputs": [],
   "source": [
    "env = Rice(region_yamls_filename='fewer_region_yamls/')\n",
    "initial_state = env.reset()"
   ]
  },
  {
   "cell_type": "code",
   "execution_count": 3,
   "id": "e2984175",
   "metadata": {},
   "outputs": [],
   "source": [
    "agents = [Agent(env, initial_state[agent_id], agent_id) for agent_id in range(env.num_agents)]"
   ]
  },
  {
   "cell_type": "code",
   "execution_count": 4,
   "id": "0309eb0f",
   "metadata": {},
   "outputs": [],
   "source": [
    "_ = agents[0].act(initial_state[0])\n",
    "_ = agents[0].make_proposals(initial_state[0])\n",
    "_ = agents[0].make_decisions(initial_state[0])\n",
    "\n",
    "_ = agents[0].act(initial_state[0])\n",
    "_ = agents[0].make_proposals(initial_state[0])\n",
    "_ = agents[0].make_decisions(initial_state[0])"
   ]
  },
  {
   "cell_type": "code",
   "execution_count": 5,
   "id": "3762528d",
   "metadata": {},
   "outputs": [],
   "source": [
    "agents[0].activityNet.buffer.rewards.extend([.5, .5])\n",
    "agents[0].decisionNet.buffer.rewards.extend([.5, .5])\n",
    "agents[0].proposalNet.buffer.rewards.extend([.5, .5])"
   ]
  },
  {
   "cell_type": "code",
   "execution_count": 6,
   "id": "b4f97a15",
   "metadata": {},
   "outputs": [],
   "source": [
    "agents[0].activityNet.buffer.is_terminals.extend([0, 1])\n",
    "agents[0].decisionNet.buffer.is_terminals.extend([0, 1])\n",
    "agents[0].proposalNet.buffer.is_terminals.extend([0, 1])"
   ]
  },
  {
   "cell_type": "code",
   "execution_count": null,
   "id": "082b10a9",
   "metadata": {},
   "outputs": [],
   "source": [
    "agents[0].update()"
   ]
  }
 ],
 "metadata": {
  "kernelspec": {
   "display_name": "Python 3 (ipykernel)",
   "language": "python",
   "name": "python3"
  },
  "language_info": {
   "codemirror_mode": {
    "name": "ipython",
    "version": 3
   },
   "file_extension": ".py",
   "mimetype": "text/x-python",
   "name": "python",
   "nbconvert_exporter": "python",
   "pygments_lexer": "ipython3",
   "version": "3.10.6"
  }
 },
 "nbformat": 4,
 "nbformat_minor": 5
}
