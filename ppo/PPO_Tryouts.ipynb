{
 "cells": [
  {
   "cell_type": "code",
   "execution_count": 1,
   "id": "99aebc04",
   "metadata": {},
   "outputs": [
    {
     "name": "stdout",
     "output_type": "stream",
     "text": [
      "Python 3.7.16\r\n"
     ]
    }
   ],
   "source": [
    "!python --version"
   ]
  },
  {
   "cell_type": "code",
   "execution_count": 1,
   "id": "fbf6a189",
   "metadata": {},
   "outputs": [],
   "source": [
    "import os\n",
    "os.chdir(\"..\")\n",
    "from rice import Rice\n",
    "import torch\n",
    "import numpy as np\n",
    "\n",
    "from tqdm import tqdm\n",
    "\n",
    "import copy\n",
    "\n",
    "from PPO_copied import ActorCritic, PPO, RolloutBuffer"
   ]
  },
  {
   "cell_type": "code",
   "execution_count": 2,
   "id": "b22b76df",
   "metadata": {},
   "outputs": [],
   "source": [
    "env = Rice(region_yamls_filename='fewer_region_yamls/')"
   ]
  },
  {
   "cell_type": "code",
   "execution_count": 3,
   "id": "2b4dbcf0",
   "metadata": {},
   "outputs": [],
   "source": [
    "def create_agents(env : Rice):\n",
    "    agents = []\n",
    "    initial_state = env.reset()\n",
    "    for i in range(env.num_regions):\n",
    "        agents.append(\n",
    "            PPO(\n",
    "                state_dim = len(initial_state[i]['features']), \n",
    "                action_dim = env.action_space[i]\n",
    "            )\n",
    "        )\n",
    "    return agents"
   ]
  },
  {
   "cell_type": "code",
   "execution_count": 4,
   "id": "5f97b421",
   "metadata": {},
   "outputs": [],
   "source": [
    "agents = create_agents(env)"
   ]
  },
  {
   "cell_type": "code",
   "execution_count": 5,
   "id": "516a3dab",
   "metadata": {},
   "outputs": [],
   "source": [
    "epochs = 100\n",
    "batch_size = 8"
   ]
  },
  {
   "cell_type": "code",
   "execution_count": 6,
   "id": "385620e1",
   "metadata": {},
   "outputs": [
    {
     "name": "stderr",
     "output_type": "stream",
     "text": [
      "100%|█████████████████████████████████████████| 100/100 [02:43<00:00,  1.63s/it]\n"
     ]
    }
   ],
   "source": [
    "for epoch in tqdm(range(epochs)):\n",
    "    for batch in range(batch_size):\n",
    "        state = env.reset()\n",
    "        for t in range(env.episode_length):\n",
    "            collective_action = {}\n",
    "            for agent_id in range(len(agents)):\n",
    "                collective_action[agent_id] = agents[agent_id].select_action(state[agent_id])\n",
    "            state, reward, _, _ = env.step(collective_action)\n",
    "            for agent_id in range(len(agents)):\n",
    "                agents[agent_id].buffer.rewards.append(reward[agent_id])\n",
    "                agents[agent_id].buffer.is_terminals.append(t == env.episode_length - 1)\n",
    "            \n",
    "    for agent in agents:\n",
    "        agent.update()"
   ]
  },
  {
   "cell_type": "code",
   "execution_count": 7,
   "id": "95d3f730",
   "metadata": {},
   "outputs": [],
   "source": [
    "def evaluate_agents(agents):\n",
    "    state = env.reset()\n",
    "    actions = {i : [] for i in range(len(agents))}\n",
    "    for t in range(env.episode_length):\n",
    "        collective_action = {}\n",
    "        for agent_id in range(len(agents)):\n",
    "            action = agents[agent_id].select_action(state[agent_id])\n",
    "            collective_action[agent_id] = action\n",
    "            actions[agent_id].append(action)\n",
    "        state, reward, _, _ = env.step(collective_action)\n",
    "    return copy.deepcopy(env.global_state), actions"
   ]
  },
  {
   "cell_type": "code",
   "execution_count": 8,
   "id": "52844f7c",
   "metadata": {},
   "outputs": [],
   "source": [
    "def baseline():\n",
    "    return evaluate_agents(create_agents(env))"
   ]
  },
  {
   "cell_type": "code",
   "execution_count": 9,
   "id": "aba3ae05",
   "metadata": {},
   "outputs": [],
   "source": [
    "t, a = evaluate_agents(agents)\n",
    "b, a1 = baseline()"
   ]
  },
  {
   "cell_type": "code",
   "execution_count": 10,
   "id": "78c45a29",
   "metadata": {},
   "outputs": [
    {
     "data": {
      "text/plain": [
       "{'value': array([[0.85      , 0.0068    ],\n",
       "        [0.9886611 , 0.02788   ],\n",
       "        [1.1111463 , 0.05189953],\n",
       "        [1.220285  , 0.0783807 ],\n",
       "        [1.3222697 , 0.1069283 ],\n",
       "        [1.4201028 , 0.13731183],\n",
       "        [1.5159597 , 0.1693816 ],\n",
       "        [1.6031895 , 0.20304605],\n",
       "        [1.686077  , 0.23804964],\n",
       "        [1.7684636 , 0.27425033],\n",
       "        [1.8498844 , 0.31160566],\n",
       "        [1.9285836 , 0.35006264],\n",
       "        [2.007049  , 0.38952565],\n",
       "        [2.085516  , 0.42996374],\n",
       "        [2.1595397 , 0.47135255],\n",
       "        [2.2326097 , 0.51355726],\n",
       "        [2.3051276 , 0.5565336 ],\n",
       "        [2.3765416 , 0.60024846],\n",
       "        [2.4474492 , 0.64465576],\n",
       "        [2.5204687 , 0.6897256 ],\n",
       "        [2.5922585 , 0.73549414]], dtype=float32),\n",
       " 'norm': 10.0}"
      ]
     },
     "execution_count": 10,
     "metadata": {},
     "output_type": "execute_result"
    }
   ],
   "source": [
    "t[\"global_temperature\"]"
   ]
  },
  {
   "cell_type": "code",
   "execution_count": 11,
   "id": "fb6bf130",
   "metadata": {},
   "outputs": [
    {
     "data": {
      "text/plain": [
       "{'value': array([[0.85      , 0.0068    ],\n",
       "        [0.9886611 , 0.02788   ],\n",
       "        [1.1099201 , 0.05189953],\n",
       "        [1.2210369 , 0.07835004],\n",
       "        [1.3243413 , 0.10691722],\n",
       "        [1.4231193 , 0.13735282],\n",
       "        [1.5202795 , 0.16949698],\n",
       "        [1.6136744 , 0.20326655],\n",
       "        [1.7061995 , 0.23852675],\n",
       "        [1.795763  , 0.27521858],\n",
       "        [1.8858715 , 0.31323218],\n",
       "        [1.9733851 , 0.35254815],\n",
       "        [2.0592983 , 0.3930691 ],\n",
       "        [2.1479213 , 0.4347248 ],\n",
       "        [2.2294114 , 0.4775547 ],\n",
       "        [2.3113794 , 0.5213511 ],\n",
       "        [2.3914547 , 0.5661018 ],\n",
       "        [2.4662201 , 0.6117356 ],\n",
       "        [2.53875   , 0.6580977 ],\n",
       "        [2.6157198 , 0.705114  ],\n",
       "        [2.6963778 , 0.75287914]], dtype=float32),\n",
       " 'norm': 10.0}"
      ]
     },
     "execution_count": 11,
     "metadata": {},
     "output_type": "execute_result"
    }
   ],
   "source": [
    "b[\"global_temperature\"]"
   ]
  },
  {
   "cell_type": "code",
   "execution_count": 12,
   "id": "5ddb3b17",
   "metadata": {},
   "outputs": [],
   "source": [
    "acts, logits, value = agents[0].policy.act(torch.FloatTensor(env.reset()[0]['features']))"
   ]
  },
  {
   "cell_type": "code",
   "execution_count": 13,
   "id": "37598cfd",
   "metadata": {},
   "outputs": [
    {
     "data": {
      "text/plain": [
       "tensor([0.2121, 0.0351, 0.1010, 0.0927, 0.0277, 0.0246, 0.1008, 0.1045, 0.1000,\n",
       "        0.0666, 0.1349])"
      ]
     },
     "execution_count": 13,
     "metadata": {},
     "output_type": "execute_result"
    }
   ],
   "source": [
    "logits.softmax(0)"
   ]
  },
  {
   "cell_type": "code",
   "execution_count": null,
   "id": "18dc5158",
   "metadata": {},
   "outputs": [],
   "source": []
  }
 ],
 "metadata": {
  "kernelspec": {
   "display_name": "Python 3 (ipykernel)",
   "language": "python",
   "name": "python3"
  },
  "language_info": {
   "codemirror_mode": {
    "name": "ipython",
    "version": 3
   },
   "file_extension": ".py",
   "mimetype": "text/x-python",
   "name": "python",
   "nbconvert_exporter": "python",
   "pygments_lexer": "ipython3",
   "version": "3.10.6"
  }
 },
 "nbformat": 4,
 "nbformat_minor": 5
}
