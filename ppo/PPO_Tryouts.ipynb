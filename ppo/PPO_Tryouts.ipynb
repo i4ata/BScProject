{
 "cells": [
  {
   "cell_type": "code",
   "execution_count": 1,
   "id": "0fc2131e",
   "metadata": {},
   "outputs": [
    {
     "name": "stdout",
     "output_type": "stream",
     "text": [
      "Python 3.7.16\r\n"
     ]
    }
   ],
   "source": [
    "!python --version"
   ]
  },
  {
   "cell_type": "code",
   "execution_count": 1,
   "id": "289cc5e9",
   "metadata": {},
   "outputs": [],
   "source": [
    "import os\n",
    "os.chdir(\"..\")\n",
    "from rice import Rice\n",
    "import torch\n",
    "import numpy as np\n",
    "\n",
    "from tqdm import tqdm\n",
    "\n",
    "import copy\n",
    "\n",
    "from PPO_copied import ActorCritic, PPO, RolloutBuffer"
   ]
  },
  {
   "cell_type": "code",
   "execution_count": 2,
   "id": "73844e03",
   "metadata": {},
   "outputs": [],
   "source": [
    "env = Rice(region_yamls_filename='fewer_region_yamls/')"
   ]
  },
  {
   "cell_type": "code",
   "execution_count": 3,
   "id": "0d9c23ca",
   "metadata": {},
   "outputs": [],
   "source": [
    "def create_agents(env : Rice):\n",
    "    agents = []\n",
    "    initial_state = env.reset()\n",
    "    for i in range(env.num_regions):\n",
    "        agents.append(\n",
    "            PPO(\n",
    "                state_dim = len(initial_state[i]['features']), \n",
    "                action_dim = env.action_space[i]\n",
    "            )\n",
    "        )\n",
    "    return agents"
   ]
  },
  {
   "cell_type": "code",
   "execution_count": 4,
   "id": "acd5d295",
   "metadata": {},
   "outputs": [],
   "source": [
    "agents = create_agents(env)"
   ]
  },
  {
   "cell_type": "code",
   "execution_count": 5,
   "id": "56efc70b",
   "metadata": {},
   "outputs": [
    {
     "name": "stderr",
     "output_type": "stream",
     "text": [
      "100%|███████████████████████████████████████████| 20/20 [01:30<00:00,  4.51s/it]\n"
     ]
    }
   ],
   "source": [
    "for epoch in tqdm(range(20)):\n",
    "    state = env.reset()\n",
    "    for t in range(env.episode_length):\n",
    "        collective_action = {}\n",
    "        for agent_id in range(len(agents)):\n",
    "            collective_action[agent_id] = agents[agent_id].select_action(state[agent_id])\n",
    "        state, reward, _, _ = env.step(collective_action)\n",
    "        for agent_id in range(len(agents)):\n",
    "            agents[agent_id].buffer.rewards.append(reward[agent_id])\n",
    "            \n",
    "    for agent in agents:\n",
    "        agent.update()"
   ]
  },
  {
   "cell_type": "code",
   "execution_count": 6,
   "id": "7c1068a5",
   "metadata": {},
   "outputs": [],
   "source": [
    "def evaluate_agents(agents):\n",
    "    state = env.reset()\n",
    "    actions = {i : [] for i in range(len(agents))}\n",
    "    for t in range(env.episode_length):\n",
    "        collective_action = {}\n",
    "        for agent_id in range(len(agents)):\n",
    "            action = agents[agent_id].select_action(state[agent_id])\n",
    "            collective_action[agent_id] = action\n",
    "            actions[agent_id].append(action)\n",
    "        state, reward, _, _ = env.step(collective_action)\n",
    "    return copy.deepcopy(env.global_state), actions"
   ]
  },
  {
   "cell_type": "code",
   "execution_count": 7,
   "id": "beaba927",
   "metadata": {},
   "outputs": [],
   "source": [
    "def baseline():\n",
    "    return evaluate_agents(create_agents(env))"
   ]
  },
  {
   "cell_type": "code",
   "execution_count": 8,
   "id": "53d9c3de",
   "metadata": {},
   "outputs": [],
   "source": [
    "t, a = evaluate_agents(agents)\n",
    "b, a1 = baseline()"
   ]
  },
  {
   "cell_type": "code",
   "execution_count": 9,
   "id": "726c3b65",
   "metadata": {},
   "outputs": [
    {
     "data": {
      "text/plain": [
       "{'value': array([[0.85      , 0.0068    ],\n",
       "        [0.9886611 , 0.02788   ],\n",
       "        [1.1085788 , 0.05189953],\n",
       "        [1.2165788 , 0.07831651],\n",
       "        [1.3185287 , 0.10677307],\n",
       "        [1.4157696 , 0.13706696],\n",
       "        [1.51711   , 0.16903453],\n",
       "        [1.6073216 , 0.20273641],\n",
       "        [1.6988846 , 0.23785104],\n",
       "        [1.7900738 , 0.27437687],\n",
       "        [1.8814331 , 0.3122693 ],\n",
       "        [1.9729142 , 0.3514984 ],\n",
       "        [2.0626662 , 0.3920338 ],\n",
       "        [2.1559305 , 0.4337996 ],\n",
       "        [2.2436054 , 0.47685286],\n",
       "        [2.3255155 , 0.52102166],\n",
       "        [2.4074383 , 0.56613404],\n",
       "        [2.4916945 , 0.61216664],\n",
       "        [2.5804365 , 0.65915483],\n",
       "        [2.6757383 , 0.7071869 ],\n",
       "        [2.767941  , 0.75640064]], dtype=float32),\n",
       " 'norm': 10.0}"
      ]
     },
     "execution_count": 9,
     "metadata": {},
     "output_type": "execute_result"
    }
   ],
   "source": [
    "t[\"global_temperature\"]"
   ]
  },
  {
   "cell_type": "code",
   "execution_count": 10,
   "id": "627d7065",
   "metadata": {},
   "outputs": [
    {
     "data": {
      "text/plain": [
       "{'value': array([[0.85      , 0.0068    ],\n",
       "        [0.9886611 , 0.02788   ],\n",
       "        [1.1112729 , 0.05189953],\n",
       "        [1.224051  , 0.07838386],\n",
       "        [1.3282546 , 0.10702554],\n",
       "        [1.4249457 , 0.13755627],\n",
       "        [1.5149925 , 0.169741  ],\n",
       "        [1.6060003 , 0.20337228],\n",
       "        [1.6999042 , 0.23843798],\n",
       "        [1.7963964 , 0.27497464],\n",
       "        [1.8892277 , 0.3130102 ],\n",
       "        [1.9828362 , 0.35241562],\n",
       "        [2.0811887 , 0.39317614],\n",
       "        [2.1757264 , 0.43537647],\n",
       "        [2.2614012 , 0.4788852 ],\n",
       "        [2.345068  , 0.5234481 ],\n",
       "        [2.4346073 , 0.5689886 ],\n",
       "        [2.5280492 , 0.6156291 ],\n",
       "        [2.6199832 , 0.6634396 ],\n",
       "        [2.7128935 , 0.71235317],\n",
       "        [2.806301  , 0.76236665]], dtype=float32),\n",
       " 'norm': 10.0}"
      ]
     },
     "execution_count": 10,
     "metadata": {},
     "output_type": "execute_result"
    }
   ],
   "source": [
    "b[\"global_temperature\"]"
   ]
  }
 ],
 "metadata": {
  "kernelspec": {
   "display_name": "Python 3 (ipykernel)",
   "language": "python",
   "name": "python3"
  },
  "language_info": {
   "codemirror_mode": {
    "name": "ipython",
    "version": 3
   },
   "file_extension": ".py",
   "mimetype": "text/x-python",
   "name": "python",
   "nbconvert_exporter": "python",
   "pygments_lexer": "ipython3",
   "version": "3.10.6"
  }
 },
 "nbformat": 4,
 "nbformat_minor": 5
}
