{
 "cells": [
  {
   "cell_type": "code",
   "execution_count": 2,
   "id": "5cee0bb8",
   "metadata": {},
   "outputs": [
    {
     "name": "stdout",
     "output_type": "stream",
     "text": [
      "Python 3.7.16\r\n"
     ]
    }
   ],
   "source": [
    "!python --version"
   ]
  },
  {
   "cell_type": "code",
   "execution_count": 1,
   "id": "347583e8",
   "metadata": {},
   "outputs": [],
   "source": [
    "import os\n",
    "os.chdir(\"..\")\n",
    "from rice import Rice\n",
    "\n",
    "from tqdm import tqdm\n",
    "\n",
    "import helper_scripts\n",
    "from PPO_negotiation import PPO"
   ]
  },
  {
   "cell_type": "code",
   "execution_count": 2,
   "id": "4bb4fb36",
   "metadata": {},
   "outputs": [],
   "source": [
    "env = Rice(region_yamls_filename='fewer_region_yamls/')"
   ]
  },
  {
   "cell_type": "code",
   "execution_count": 3,
   "id": "e72c7e59",
   "metadata": {},
   "outputs": [],
   "source": [
    "initial_state = env.reset()"
   ]
  },
  {
   "cell_type": "code",
   "execution_count": 4,
   "id": "88a334c8",
   "metadata": {},
   "outputs": [],
   "source": [
    "agent = PPO(state_dim = len(initial_state[0]['features']), \n",
    "            action_dim = env.action_space[0],\n",
    "            params = helper_scripts.default_params,\n",
    "            device = 'cpu')"
   ]
  },
  {
   "cell_type": "code",
   "execution_count": 7,
   "id": "ed83f4f6",
   "metadata": {},
   "outputs": [
    {
     "name": "stdout",
     "output_type": "stream",
     "text": [
      "State shape: torch.Size([1, 77]), Mask shape: torch.Size([1, 11, 10])\n",
      "Logits shape: torch.Size([1, 64])\n",
      "Action Logits shape : 11 x torch.Size([1, 10])\n",
      "[tensor([[-1.0000e+05, -1.0000e+05, -1.0000e+05, -1.0000e+05, -1.0000e+05,\n",
      "         -1.0000e+05, -1.0000e+05, -1.0000e+05, -1.0000e+05,  7.4348e-02]]), tensor([[-0.0606,  0.0607, -0.0870, -0.0276,  0.0041,  0.0169,  0.0061, -0.0234,\n",
      "         -0.1522,  0.0085]]), tensor([[-0.0018, -0.2074, -0.1147, -0.1046, -0.0275, -0.0311, -0.0181, -0.1058,\n",
      "         -0.0795,  0.1120]]), tensor([[ 0.0758,  0.0763, -0.0003, -0.0842,  0.1485,  0.1548, -0.1344,  0.0363,\n",
      "         -0.0486,  0.0490]]), tensor([[-0.0063,  0.1054, -0.0831,  0.0322, -0.1535,  0.0467,  0.0477, -0.1612,\n",
      "         -0.0800,  0.0083]]), tensor([[ 0.0747,  0.0363, -0.0448,  0.0016,  0.0824, -0.0420, -0.0548,  0.0221,\n",
      "          0.0031,  0.1323]]), tensor([[ 0.0371, -0.0122, -0.0555,  0.0498, -0.0156,  0.0342,  0.1342,  0.0148,\n",
      "          0.0859, -0.1588]]), tensor([[ 0.1595,  0.0181, -0.0984, -0.0990, -0.0900,  0.1832, -0.0345,  0.0217,\n",
      "         -0.0887,  0.1195]]), tensor([[-0.0156, -0.0902, -0.0661, -0.1548, -0.1443,  0.0463,  0.0450, -0.0260,\n",
      "         -0.0317, -0.1006]]), tensor([[ 0.1318,  0.0352, -0.0632, -0.0568,  0.0870, -0.1434,  0.0460, -0.0569,\n",
      "          0.0804, -0.0152]]), tensor([[-0.0426, -0.0946,  0.0750,  0.1575, -0.0405, -0.0099, -0.0956,  0.0656,\n",
      "         -0.0024, -0.0904]])]\n"
     ]
    },
    {
     "data": {
      "text/plain": [
       "[array([9, 5, 5, 4, 2, 1, 5, 0, 3, 5, 1])]"
      ]
     },
     "execution_count": 7,
     "metadata": {},
     "output_type": "execute_result"
    }
   ],
   "source": [
    "agent.select_action(initial_state[0])"
   ]
  },
  {
   "cell_type": "code",
   "execution_count": 6,
   "id": "e266b148",
   "metadata": {},
   "outputs": [
    {
     "data": {
      "text/plain": [
       "tensor([[0, 1, 1, 1, 1, 1, 1, 1, 1, 1],\n",
       "        [1, 1, 1, 1, 1, 1, 1, 1, 1, 1],\n",
       "        [1, 1, 1, 1, 1, 1, 1, 1, 1, 1],\n",
       "        [1, 1, 1, 1, 1, 1, 1, 1, 1, 1],\n",
       "        [1, 1, 1, 1, 1, 1, 1, 1, 1, 1],\n",
       "        [1, 1, 1, 1, 1, 1, 1, 1, 1, 1],\n",
       "        [1, 1, 1, 1, 1, 1, 1, 1, 1, 1],\n",
       "        [1, 1, 1, 1, 1, 1, 1, 1, 1, 1],\n",
       "        [1, 1, 1, 1, 1, 1, 1, 1, 1, 1],\n",
       "        [1, 1, 1, 1, 1, 1, 1, 1, 1, 1],\n",
       "        [1, 1, 1, 1, 1, 1, 1, 1, 1, 1]], dtype=torch.uint8)"
      ]
     },
     "execution_count": 6,
     "metadata": {},
     "output_type": "execute_result"
    }
   ],
   "source": [
    "agent.action_mask[0][0] = False\n",
    "agent.action_mask"
   ]
  },
  {
   "cell_type": "code",
   "execution_count": 6,
   "id": "ea3471b4",
   "metadata": {},
   "outputs": [
    {
     "data": {
      "text/plain": [
       "array([[False, False, False, False, False, False, False, False, False,\n",
       "         True],\n",
       "       [ True,  True,  True,  True,  True,  True,  True,  True,  True,\n",
       "         True],\n",
       "       [ True,  True,  True,  True,  True,  True,  True,  True,  True,\n",
       "         True],\n",
       "       [ True,  True,  True,  True,  True,  True,  True,  True,  True,\n",
       "         True],\n",
       "       [ True,  True,  True,  True,  True,  True,  True,  True,  True,\n",
       "         True],\n",
       "       [ True,  True,  True,  True,  True,  True,  True,  True,  True,\n",
       "         True],\n",
       "       [ True,  True,  True,  True,  True,  True,  True,  True,  True,\n",
       "         True],\n",
       "       [ True,  True,  True,  True,  True,  True,  True,  True,  True,\n",
       "         True],\n",
       "       [ True,  True,  True,  True,  True,  True,  True,  True,  True,\n",
       "         True],\n",
       "       [ True,  True,  True,  True,  True,  True,  True,  True,  True,\n",
       "         True],\n",
       "       [ True,  True,  True,  True,  True,  True,  True,  True,  True,\n",
       "         True]])"
      ]
     },
     "execution_count": 6,
     "metadata": {},
     "output_type": "execute_result"
    }
   ],
   "source": [
    "env.agent_action_masks[0][0][0:9] = 0\n",
    "env.agent_action_masks[0]"
   ]
  },
  {
   "cell_type": "code",
   "execution_count": 13,
   "id": "0bde83c0",
   "metadata": {},
   "outputs": [
    {
     "data": {
      "text/plain": [
       "(11, 10)"
      ]
     },
     "execution_count": 13,
     "metadata": {},
     "output_type": "execute_result"
    }
   ],
   "source": [
    "a = env.agent_action_masks[0]\n",
    "a.shape"
   ]
  },
  {
   "cell_type": "code",
   "execution_count": 14,
   "id": "f4ff6a2c",
   "metadata": {},
   "outputs": [
    {
     "data": {
      "text/plain": [
       "array([False,  True,  True,  True,  True,  True,  True,  True,  True,\n",
       "        True,  True])"
      ]
     },
     "execution_count": 14,
     "metadata": {},
     "output_type": "execute_result"
    }
   ],
   "source": [
    "a[:, 0]"
   ]
  },
  {
   "cell_type": "code",
   "execution_count": null,
   "id": "794f24cf",
   "metadata": {},
   "outputs": [],
   "source": []
  }
 ],
 "metadata": {
  "kernelspec": {
   "display_name": "Python 3 (ipykernel)",
   "language": "python",
   "name": "python3"
  },
  "language_info": {
   "codemirror_mode": {
    "name": "ipython",
    "version": 3
   },
   "file_extension": ".py",
   "mimetype": "text/x-python",
   "name": "python",
   "nbconvert_exporter": "python",
   "pygments_lexer": "ipython3",
   "version": "3.10.6"
  }
 },
 "nbformat": 4,
 "nbformat_minor": 5
}
