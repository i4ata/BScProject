{
 "cells": [
  {
   "cell_type": "code",
   "execution_count": 1,
   "id": "a1fdd6ca",
   "metadata": {},
   "outputs": [],
   "source": [
    "import torch\n",
    "import torch.nn as nn\n",
    "import numpy as np"
   ]
  },
  {
   "cell_type": "code",
   "execution_count": 4,
   "id": "37fdaa10",
   "metadata": {},
   "outputs": [],
   "source": [
    "model = nn.LSTM(10, 5)\n",
    "l = nn.Linear(5, 1)"
   ]
  },
  {
   "cell_type": "code",
   "execution_count": 5,
   "id": "a286ed95",
   "metadata": {},
   "outputs": [
    {
     "data": {
      "text/plain": [
       "(tensor([[[ 1.7073e-01,  2.4806e-01,  9.6443e-02,  1.0575e-02, -1.2454e-01],\n",
       "          [ 1.7669e-01,  2.7857e-01,  2.9757e-02, -3.3998e-03,  3.7068e-01],\n",
       "          [-2.1580e-01, -8.5458e-02,  1.4022e-01,  3.5137e-02,  1.5924e-01],\n",
       "          [ 5.0000e-02,  2.3443e-01,  3.3610e-01, -4.7304e-02,  2.0076e-01],\n",
       "          [-4.4741e-02,  1.3984e-01, -1.0763e-01, -1.1293e-02, -3.4022e-01]],\n",
       " \n",
       "         [[ 1.5899e-01, -1.8610e-01,  3.1222e-01, -1.9676e-01, -3.0430e-02],\n",
       "          [ 2.3832e-01,  9.0084e-02,  4.2878e-02, -2.7703e-02,  5.6521e-02],\n",
       "          [-3.5573e-01,  1.0335e-01, -9.0360e-02,  1.1657e-01, -2.1124e-01],\n",
       "          [ 1.5162e-01,  2.5173e-01,  3.9738e-01,  9.4904e-02, -6.9673e-02],\n",
       "          [ 7.0686e-02,  3.6595e-01, -1.6096e-02,  1.2060e-01, -5.2035e-01]],\n",
       " \n",
       "         [[ 7.4176e-02,  6.7340e-03,  1.8674e-01, -1.3994e-01,  3.1055e-01],\n",
       "          [ 2.8263e-01,  1.8432e-01,  4.0923e-02, -1.1921e-02, -4.9054e-02],\n",
       "          [-5.6322e-01,  2.2696e-04,  3.4434e-01,  1.3936e-01, -5.2689e-02],\n",
       "          [ 8.1587e-02, -2.1325e-02,  2.3985e-01,  1.4940e-01, -4.2466e-01],\n",
       "          [ 1.0683e-01,  1.2964e-01, -2.8927e-01, -7.5281e-02, -4.5490e-02]]],\n",
       "        grad_fn=<MkldnnRnnLayerBackward0>),\n",
       " (tensor([[[ 7.4176e-02,  6.7340e-03,  1.8674e-01, -1.3994e-01,  3.1055e-01],\n",
       "           [ 2.8263e-01,  1.8432e-01,  4.0923e-02, -1.1921e-02, -4.9054e-02],\n",
       "           [-5.6322e-01,  2.2696e-04,  3.4434e-01,  1.3936e-01, -5.2689e-02],\n",
       "           [ 8.1587e-02, -2.1325e-02,  2.3985e-01,  1.4940e-01, -4.2466e-01],\n",
       "           [ 1.0683e-01,  1.2964e-01, -2.8927e-01, -7.5281e-02, -4.5490e-02]]],\n",
       "         grad_fn=<StackBackward0>),\n",
       "  tensor([[[ 9.8211e-02,  1.6481e-02,  4.4918e-01, -5.4570e-01,  6.4082e-01],\n",
       "           [ 6.2344e-01,  3.0853e-01,  8.7478e-02, -3.4751e-02, -7.8562e-02],\n",
       "           [-1.3213e+00,  8.0233e-04,  6.3604e-01,  2.4259e-01, -1.3206e-01],\n",
       "           [ 3.8499e-01, -3.0299e-02,  5.3288e-01,  7.8212e-01, -8.4425e-01],\n",
       "           [ 1.8373e-01,  3.0021e-01, -4.9047e-01, -1.7673e-01, -8.1157e-02]]],\n",
       "         grad_fn=<StackBackward0>)))"
      ]
     },
     "execution_count": 5,
     "metadata": {},
     "output_type": "execute_result"
    }
   ],
   "source": [
    "a = torch.randn(3, 5, 10)\n",
    "out = model(a)\n",
    "out"
   ]
  },
  {
   "cell_type": "code",
   "execution_count": 8,
   "id": "5a080dcb",
   "metadata": {},
   "outputs": [
    {
     "data": {
      "text/plain": [
       "torch.Size([3, 5, 1])"
      ]
     },
     "execution_count": 8,
     "metadata": {},
     "output_type": "execute_result"
    }
   ],
   "source": [
    "l(out[0]).shape"
   ]
  },
  {
   "cell_type": "code",
   "execution_count": 15,
   "id": "918d019c",
   "metadata": {},
   "outputs": [
    {
     "data": {
      "text/plain": [
       "1"
      ]
     },
     "execution_count": 15,
     "metadata": {},
     "output_type": "execute_result"
    }
   ],
   "source": [
    "a.dim()"
   ]
  },
  {
   "cell_type": "code",
   "execution_count": null,
   "id": "2da9d38d",
   "metadata": {},
   "outputs": [],
   "source": []
  }
 ],
 "metadata": {
  "kernelspec": {
   "display_name": "Python 3 (ipykernel)",
   "language": "python",
   "name": "python3"
  },
  "language_info": {
   "codemirror_mode": {
    "name": "ipython",
    "version": 3
   },
   "file_extension": ".py",
   "mimetype": "text/x-python",
   "name": "python",
   "nbconvert_exporter": "python",
   "pygments_lexer": "ipython3",
   "version": "3.10.6"
  }
 },
 "nbformat": 4,
 "nbformat_minor": 5
}
