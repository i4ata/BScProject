{
 "cells": [
  {
   "cell_type": "code",
   "execution_count": 1,
   "id": "a1fdd6ca",
   "metadata": {},
   "outputs": [],
   "source": [
    "import torch\n",
    "import torch.nn as nn\n",
    "import numpy as np"
   ]
  },
  {
   "cell_type": "code",
   "execution_count": 2,
   "id": "37fdaa10",
   "metadata": {},
   "outputs": [],
   "source": [
    "model = nn.LSTMCell(10, 5)"
   ]
  },
  {
   "cell_type": "code",
   "execution_count": 3,
   "id": "a286ed95",
   "metadata": {},
   "outputs": [
    {
     "data": {
      "text/plain": [
       "(tensor([[ 0.2334,  0.2132, -0.1008, -0.2136,  0.0416],\n",
       "         [ 0.0427,  0.1625, -0.0255, -0.0412,  0.0675],\n",
       "         [-0.0626,  0.0737, -0.0517,  0.0265, -0.0728],\n",
       "         [-0.0147,  0.0564, -0.0234,  0.3063, -0.0836],\n",
       "         [ 0.0922,  0.1490, -0.0440,  0.1831,  0.0375]], grad_fn=<MulBackward0>),\n",
       " tensor([[ 0.3008,  0.3823, -0.2043, -0.2904,  0.0715],\n",
       "         [ 0.0613,  0.4948, -0.0830, -0.0721,  0.1261],\n",
       "         [-0.1392,  0.5718, -0.3070,  0.0449, -0.1006],\n",
       "         [-0.0436,  0.1415, -0.0484,  0.4575, -0.1596],\n",
       "         [ 0.1717,  0.3575, -0.1116,  0.3193,  0.0767]], grad_fn=<AddBackward0>))"
      ]
     },
     "execution_count": 3,
     "metadata": {},
     "output_type": "execute_result"
    }
   ],
   "source": [
    "a = torch.randn(5, 10)\n",
    "out = model(a)\n",
    "out"
   ]
  },
  {
   "cell_type": "code",
   "execution_count": 8,
   "id": "5a080dcb",
   "metadata": {},
   "outputs": [
    {
     "data": {
      "text/plain": [
       "torch.Size([3, 5, 1])"
      ]
     },
     "execution_count": 8,
     "metadata": {},
     "output_type": "execute_result"
    }
   ],
   "source": [
    "l(out[0]).shape"
   ]
  },
  {
   "cell_type": "code",
   "execution_count": 15,
   "id": "918d019c",
   "metadata": {},
   "outputs": [
    {
     "data": {
      "text/plain": [
       "1"
      ]
     },
     "execution_count": 15,
     "metadata": {},
     "output_type": "execute_result"
    }
   ],
   "source": [
    "a.dim()"
   ]
  },
  {
   "cell_type": "code",
   "execution_count": null,
   "id": "2da9d38d",
   "metadata": {},
   "outputs": [],
   "source": []
  }
 ],
 "metadata": {
  "kernelspec": {
   "display_name": "Python 3 (ipykernel)",
   "language": "python",
   "name": "python3"
  },
  "language_info": {
   "codemirror_mode": {
    "name": "ipython",
    "version": 3
   },
   "file_extension": ".py",
   "mimetype": "text/x-python",
   "name": "python",
   "nbconvert_exporter": "python",
   "pygments_lexer": "ipython3",
   "version": "3.10.6"
  }
 },
 "nbformat": 4,
 "nbformat_minor": 5
}
