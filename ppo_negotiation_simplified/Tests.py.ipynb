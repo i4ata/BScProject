{
 "cells": [
  {
   "cell_type": "code",
   "execution_count": 12,
   "id": "13ce695b",
   "metadata": {},
   "outputs": [],
   "source": [
    "import helpers\n",
    "import numpy as np\n",
    "import scipy.stats as stats"
   ]
  },
  {
   "cell_type": "code",
   "execution_count": 8,
   "id": "99e928b5",
   "metadata": {},
   "outputs": [],
   "source": [
    "a = np.ones((21, 3)) + [0, 1, 2]"
   ]
  },
  {
   "cell_type": "code",
   "execution_count": 9,
   "id": "c1150b56",
   "metadata": {},
   "outputs": [
    {
     "data": {
      "text/plain": [
       "array([[1., 2., 3.],\n",
       "       [1., 2., 3.],\n",
       "       [1., 2., 3.],\n",
       "       [1., 2., 3.],\n",
       "       [1., 2., 3.],\n",
       "       [1., 2., 3.],\n",
       "       [1., 2., 3.],\n",
       "       [1., 2., 3.],\n",
       "       [1., 2., 3.],\n",
       "       [1., 2., 3.],\n",
       "       [1., 2., 3.],\n",
       "       [1., 2., 3.],\n",
       "       [1., 2., 3.],\n",
       "       [1., 2., 3.],\n",
       "       [1., 2., 3.],\n",
       "       [1., 2., 3.],\n",
       "       [1., 2., 3.],\n",
       "       [1., 2., 3.],\n",
       "       [1., 2., 3.],\n",
       "       [1., 2., 3.],\n",
       "       [1., 2., 3.]])"
      ]
     },
     "execution_count": 9,
     "metadata": {},
     "output_type": "execute_result"
    }
   ],
   "source": [
    "a"
   ]
  },
  {
   "cell_type": "code",
   "execution_count": 2,
   "id": "53ddc018",
   "metadata": {},
   "outputs": [],
   "source": [
    "envs = helpers.create_envs(yamls_filename='yamls/2_region_yamls')[0]\n",
    "# agents = helpers.create_agents(envs[0])"
   ]
  },
  {
   "cell_type": "code",
   "execution_count": 6,
   "id": "c36dc15b",
   "metadata": {},
   "outputs": [
    {
     "name": "stderr",
     "output_type": "stream",
     "text": [
      "100%|███████████████████████████████████████████████████████████████████████████| 1000/1000 [00:19<00:00, 51.88it/s]\n"
     ]
    }
   ],
   "source": [
    "a = helpers.get_baseline_cum_returns(envs, n_trials=1_000)"
   ]
  },
  {
   "cell_type": "code",
   "execution_count": 20,
   "id": "9a34fdc2",
   "metadata": {},
   "outputs": [
    {
     "data": {
      "text/plain": [
       "2.987852611501489"
      ]
     },
     "execution_count": 20,
     "metadata": {},
     "output_type": "execute_result"
    }
   ],
   "source": [
    "stats.boxcox(a)[1]"
   ]
  },
  {
   "cell_type": "code",
   "execution_count": 19,
   "id": "1a237140",
   "metadata": {},
   "outputs": [
    {
     "data": {
      "text/plain": [
       "59.04233714080136"
      ]
     },
     "execution_count": 19,
     "metadata": {},
     "output_type": "execute_result"
    }
   ],
   "source": [
    "stats.boxcox(a)[0].std()"
   ]
  },
  {
   "cell_type": "code",
   "execution_count": 17,
   "id": "6a798ddf",
   "metadata": {},
   "outputs": [
    {
     "data": {
      "text/plain": [
       "ShapiroResult(statistic=0.9988633394241333, pvalue=0.7951122522354126)"
      ]
     },
     "execution_count": 17,
     "metadata": {},
     "output_type": "execute_result"
    }
   ],
   "source": [
    "stats.shapiro(stats.boxcox(a)[0])"
   ]
  },
  {
   "cell_type": "code",
   "execution_count": 19,
   "id": "eca09b29",
   "metadata": {},
   "outputs": [
    {
     "data": {
      "text/plain": [
       "(21, 2)"
      ]
     },
     "execution_count": 19,
     "metadata": {},
     "output_type": "execute_result"
    }
   ],
   "source": [
    "envs[0].reset()\n",
    "envs[0].global_state['reward_all_regions']['value'].shape"
   ]
  },
  {
   "cell_type": "code",
   "execution_count": 3,
   "id": "e062607a",
   "metadata": {},
   "outputs": [
    {
     "name": "stderr",
     "output_type": "stream",
     "text": [
      "100%|███████████████████████████████████████| 1000/1000 [00:37<00:00, 26.35it/s]\n"
     ]
    }
   ],
   "source": [
    "r = envs[0].estimate_reward_distribution()"
   ]
  },
  {
   "cell_type": "code",
   "execution_count": 4,
   "id": "5e263fc5",
   "metadata": {},
   "outputs": [
    {
     "data": {
      "text/plain": [
       "array([0.11810149, 0.11719461, 0.11682205, 0.11741002], dtype=float32)"
      ]
     },
     "execution_count": 4,
     "metadata": {},
     "output_type": "execute_result"
    }
   ],
   "source": [
    "r.mean(0)"
   ]
  },
  {
   "cell_type": "code",
   "execution_count": 4,
   "id": "2eca4bdd",
   "metadata": {},
   "outputs": [
    {
     "data": {
      "text/plain": [
       "array([0.1837245, 0.1839157], dtype=float32)"
      ]
     },
     "execution_count": 4,
     "metadata": {},
     "output_type": "execute_result"
    }
   ],
   "source": [
    "r.mean(0)"
   ]
  },
  {
   "cell_type": "code",
   "execution_count": 12,
   "id": "7a8a5884",
   "metadata": {},
   "outputs": [
    {
     "data": {
      "text/plain": [
       "array([0.12683399, 0.05198448, 0.03085149, 0.07488997, 0.02121781,\n",
       "       0.2828288 , 0.01516363, 0.02213184, 0.22927459, 0.03168111,\n",
       "       0.07750511, 0.08832972, 0.25673124, 0.14492033, 0.07246767,\n",
       "       0.9541912 , 0.5645132 , 0.23426142, 0.27817056, 0.11703864,\n",
       "       0.66655827, 0.08648663, 0.26146117, 0.03011092, 0.20305464,\n",
       "       0.05462708, 0.21177474], dtype=float32)"
      ]
     },
     "execution_count": 12,
     "metadata": {},
     "output_type": "execute_result"
    }
   ],
   "source": [
    "r.mean(0)"
   ]
  },
  {
   "cell_type": "code",
   "execution_count": 3,
   "id": "8de2264e",
   "metadata": {},
   "outputs": [],
   "source": [
    "states = [env.reset() for env in envs]"
   ]
  },
  {
   "cell_type": "code",
   "execution_count": 4,
   "id": "db6b3c37",
   "metadata": {},
   "outputs": [],
   "source": [
    "new_states = helpers.proposals_step(agents, envs, states)"
   ]
  },
  {
   "cell_type": "code",
   "execution_count": 5,
   "id": "be1bcf06",
   "metadata": {},
   "outputs": [],
   "source": [
    "new_new_states = helpers.decisions_step(agents, envs, new_states)"
   ]
  },
  {
   "cell_type": "code",
   "execution_count": 6,
   "id": "a7750a73",
   "metadata": {},
   "outputs": [],
   "source": [
    "s, r = helpers.action_step(agents, envs, new_new_states)"
   ]
  },
  {
   "cell_type": "code",
   "execution_count": 7,
   "id": "8a6c5874",
   "metadata": {},
   "outputs": [
    {
     "data": {
      "text/plain": [
       "({0: 0.05888777, 1: 0.026819868, 2: 0.14720672, 3: 0.16434895},\n",
       " {0: 0.280478, 1: 0.02202305, 2: 0.12687464, 3: 0.16556157},\n",
       " {0: 0.0023812728, 1: 0.013697322, 2: 0.21270674, 3: 0.0061370214},\n",
       " {0: 0.1854819, 1: 0.054339632, 2: 0.265243, 3: 0.10809251},\n",
       " {0: 0.08262519, 1: 0.016553843, 2: 0.31943807, 3: 0.20569865})"
      ]
     },
     "execution_count": 7,
     "metadata": {},
     "output_type": "execute_result"
    }
   ],
   "source": [
    "r"
   ]
  },
  {
   "cell_type": "code",
   "execution_count": null,
   "id": "4a26433d",
   "metadata": {},
   "outputs": [],
   "source": []
  }
 ],
 "metadata": {
  "kernelspec": {
   "display_name": "Python 3 (ipykernel)",
   "language": "python",
   "name": "python3"
  },
  "language_info": {
   "codemirror_mode": {
    "name": "ipython",
    "version": 3
   },
   "file_extension": ".py",
   "mimetype": "text/x-python",
   "name": "python",
   "nbconvert_exporter": "python",
   "pygments_lexer": "ipython3",
   "version": "3.10.6"
  }
 },
 "nbformat": 4,
 "nbformat_minor": 5
}
