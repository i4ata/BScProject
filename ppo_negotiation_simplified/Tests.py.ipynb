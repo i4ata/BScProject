{
 "cells": [
  {
   "cell_type": "code",
   "execution_count": 1,
   "id": "13ce695b",
   "metadata": {},
   "outputs": [],
   "source": [
    "import helpers\n",
    "import numpy as np"
   ]
  },
  {
   "cell_type": "code",
   "execution_count": 2,
   "id": "53ddc018",
   "metadata": {},
   "outputs": [],
   "source": [
    "envs = helpers.create_envs()\n",
    "agents = helpers.create_agents(envs[0])"
   ]
  },
  {
   "cell_type": "code",
   "execution_count": 3,
   "id": "ee3b3f2d",
   "metadata": {},
   "outputs": [],
   "source": [
    "a = helpers.action_step(agents, envs, [env.reset() for env in envs])"
   ]
  },
  {
   "cell_type": "code",
   "execution_count": 6,
   "id": "17b4b550",
   "metadata": {},
   "outputs": [
    {
     "data": {
      "text/plain": [
       "({0: -0.0, 1: 0.05713217},\n",
       " {0: 0.059943072, 1: 0.040315416},\n",
       " {0: 0.040453166, 1: 0.04469134},\n",
       " {0: -0.0, 1: 0.060803205},\n",
       " {0: 0.03420105, 1: 0.05320229})"
      ]
     },
     "execution_count": 6,
     "metadata": {},
     "output_type": "execute_result"
    }
   ],
   "source": [
    "a[1]"
   ]
  },
  {
   "cell_type": "code",
   "execution_count": 6,
   "id": "b94f1f23",
   "metadata": {},
   "outputs": [
    {
     "data": {
      "text/plain": [
       "{0: 0, 1: 1, 2: 2, 3: 3, 4: 4}"
      ]
     },
     "execution_count": 6,
     "metadata": {},
     "output_type": "execute_result"
    }
   ],
   "source": [
    "a = dict(enumerate(range(5)))\n",
    "a"
   ]
  },
  {
   "cell_type": "code",
   "execution_count": 8,
   "id": "a5c076df",
   "metadata": {},
   "outputs": [
    {
     "data": {
      "text/plain": [
       "(5, 2, 140)"
      ]
     },
     "execution_count": 8,
     "metadata": {},
     "output_type": "execute_result"
    }
   ],
   "source": [
    "a.transpose(1, 0, 2).shape"
   ]
  },
  {
   "cell_type": "code",
   "execution_count": 17,
   "id": "7d618d2b",
   "metadata": {},
   "outputs": [],
   "source": [
    "p = agents[0].make_decisions(states)"
   ]
  },
  {
   "cell_type": "code",
   "execution_count": 18,
   "id": "db6b3c37",
   "metadata": {},
   "outputs": [
    {
     "data": {
      "text/plain": [
       "[array([0.], dtype=float32),\n",
       " array([0.], dtype=float32),\n",
       " array([1.], dtype=float32),\n",
       " array([1.], dtype=float32),\n",
       " array([0.], dtype=float32)]"
      ]
     },
     "execution_count": 18,
     "metadata": {},
     "output_type": "execute_result"
    }
   ],
   "source": [
    "p"
   ]
  }
 ],
 "metadata": {
  "kernelspec": {
   "display_name": "Python 3 (ipykernel)",
   "language": "python",
   "name": "python3"
  },
  "language_info": {
   "codemirror_mode": {
    "name": "ipython",
    "version": 3
   },
   "file_extension": ".py",
   "mimetype": "text/x-python",
   "name": "python",
   "nbconvert_exporter": "python",
   "pygments_lexer": "ipython3",
   "version": "3.10.6"
  }
 },
 "nbformat": 4,
 "nbformat_minor": 5
}
