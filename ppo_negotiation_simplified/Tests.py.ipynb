{
 "cells": [
  {
   "cell_type": "code",
   "execution_count": 1,
   "id": "13ce695b",
   "metadata": {},
   "outputs": [],
   "source": [
    "import helpers"
   ]
  },
  {
   "cell_type": "code",
   "execution_count": 2,
   "id": "53ddc018",
   "metadata": {},
   "outputs": [],
   "source": [
    "envs = helpers.create_envs()\n",
    "agents = helpers.create_agents(envs[0])"
   ]
  },
  {
   "cell_type": "code",
   "execution_count": 4,
   "id": "05ccb923",
   "metadata": {},
   "outputs": [
    {
     "data": {
      "text/plain": [
       "{'features': array([1.00000000e+00, 0.00000000e+00, 8.50000009e-02, 6.79999997e-04,\n",
       "        8.51000026e-02, 4.60000001e-02, 1.73999995e-01, 0.00000000e+00,\n",
       "        0.00000000e+00, 0.00000000e+00, 2.64167495e-04, 2.64167495e-04,\n",
       "        0.00000000e+00, 0.00000000e+00, 3.81011097e-03, 3.81011097e-03,\n",
       "        0.00000000e+00, 0.00000000e+00, 0.00000000e+00, 0.00000000e+00,\n",
       "        0.00000000e+00, 0.00000000e+00, 0.00000000e+00, 0.00000000e+00,\n",
       "        0.00000000e+00, 0.00000000e+00, 0.00000000e+00, 0.00000000e+00,\n",
       "        0.00000000e+00, 0.00000000e+00, 0.00000000e+00, 0.00000000e+00,\n",
       "        0.00000000e+00, 0.00000000e+00, 1.21579361e-01, 3.50444198e+00,\n",
       "        0.00000000e+00, 0.00000000e+00, 0.00000000e+00, 0.00000000e+00,\n",
       "        0.00000000e+00, 0.00000000e+00, 0.00000000e+00]),\n",
       " 'action_mask': array([[1., 1., 1., 1., 1., 1., 1., 1., 1., 1.],\n",
       "        [1., 1., 1., 1., 1., 1., 1., 1., 1., 1.],\n",
       "        [1., 1., 1., 1., 1., 1., 1., 1., 1., 1.],\n",
       "        [1., 1., 1., 1., 1., 1., 1., 1., 1., 1.],\n",
       "        [1., 1., 1., 1., 1., 1., 1., 1., 1., 1.],\n",
       "        [1., 1., 1., 1., 1., 1., 1., 1., 1., 1.],\n",
       "        [1., 1., 1., 1., 1., 1., 1., 1., 1., 1.]]),\n",
       " 'promises': array([[[ True,  True,  True,  True,  True,  True,  True,  True,  True,\n",
       "           True],\n",
       "         [ True,  True,  True,  True,  True,  True,  True,  True,  True,\n",
       "           True],\n",
       "         [ True,  True,  True,  True,  True,  True,  True,  True,  True,\n",
       "           True],\n",
       "         [ True,  True,  True,  True,  True,  True,  True,  True,  True,\n",
       "           True],\n",
       "         [ True,  True,  True,  True,  True,  True,  True,  True,  True,\n",
       "           True],\n",
       "         [ True,  True,  True,  True,  True,  True,  True,  True,  True,\n",
       "           True],\n",
       "         [ True,  True,  True,  True,  True,  True,  True,  True,  True,\n",
       "           True]]]),\n",
       " 'proposals': array([[[ True,  True,  True,  True,  True,  True,  True,  True,  True,\n",
       "           True],\n",
       "         [ True,  True,  True,  True,  True,  True,  True,  True,  True,\n",
       "           True],\n",
       "         [ True,  True,  True,  True,  True,  True,  True,  True,  True,\n",
       "           True],\n",
       "         [ True,  True,  True,  True,  True,  True,  True,  True,  True,\n",
       "           True],\n",
       "         [ True,  True,  True,  True,  True,  True,  True,  True,  True,\n",
       "           True],\n",
       "         [ True,  True,  True,  True,  True,  True,  True,  True,  True,\n",
       "           True],\n",
       "         [ True,  True,  True,  True,  True,  True,  True,  True,  True,\n",
       "           True]]])}"
      ]
     },
     "execution_count": 4,
     "metadata": {},
     "output_type": "execute_result"
    }
   ],
   "source": [
    "states = [env.reset() for env in envs]\n",
    "states[0][0]"
   ]
  },
  {
   "cell_type": "code",
   "execution_count": 5,
   "id": "db2762c8",
   "metadata": {},
   "outputs": [],
   "source": [
    "ps1 = agents[0].make_proposals([state[0] for state in states])\n",
    "ps1 = {'proposals': ps1['proposals'][0], 'promises': ps1['promises'][0]}\n",
    "\n",
    "ps2 = agents[1].make_proposals([state[1] for state in states])\n",
    "ps2 = {'proposals': ps2['proposals'][0], 'promises': ps2['promises'][0]}"
   ]
  },
  {
   "cell_type": "code",
   "execution_count": 6,
   "id": "8ef863bd",
   "metadata": {},
   "outputs": [
    {
     "data": {
      "text/plain": [
       "{'proposals': array([[1, 1, 0, 1, 0, 1, 0, 0, 0, 0, 1, 1, 1, 0, 1, 1, 1, 1, 0, 0, 1, 0,\n",
       "         1, 1, 0, 1, 1, 1, 1, 1, 1, 0, 1, 0, 0, 0, 1, 0, 0, 0, 1, 1, 0, 0,\n",
       "         0, 1, 0, 1, 1, 0, 0, 0, 0, 1, 0, 1, 1, 0, 0, 0, 0, 0, 1, 1, 0, 0,\n",
       "         1, 1, 1, 1]]),\n",
       " 'promises': array([[1, 1, 1, 0, 0, 1, 0, 0, 1, 0, 1, 0, 1, 1, 0, 1, 1, 1, 1, 1, 0, 0,\n",
       "         1, 0, 0, 0, 1, 0, 1, 0, 0, 1, 1, 1, 1, 1, 1, 0, 1, 0, 0, 1, 0, 0,\n",
       "         1, 0, 1, 1, 1, 1, 1, 0, 0, 0, 0, 1, 0, 1, 0, 0, 1, 1, 1, 1, 1, 1,\n",
       "         1, 1, 0, 0]])}"
      ]
     },
     "execution_count": 6,
     "metadata": {},
     "output_type": "execute_result"
    }
   ],
   "source": [
    "ps1"
   ]
  },
  {
   "cell_type": "code",
   "execution_count": 7,
   "id": "49f916f8",
   "metadata": {},
   "outputs": [
    {
     "data": {
      "text/plain": [
       "{'proposals': array([[0, 0, 0, 1, 0, 0, 0, 1, 0, 0, 1, 0, 0, 1, 0, 1, 0, 0, 1, 1, 1, 1,\n",
       "         0, 0, 0, 1, 1, 1, 1, 0, 1, 1, 0, 1, 0, 1, 1, 0, 0, 0, 1, 0, 1, 0,\n",
       "         1, 0, 0, 1, 1, 1, 1, 1, 0, 0, 1, 0, 1, 0, 1, 0, 0, 0, 1, 1, 0, 1,\n",
       "         0, 1, 1, 0]]),\n",
       " 'promises': array([[1, 0, 1, 1, 1, 0, 0, 0, 1, 1, 1, 0, 0, 1, 1, 0, 1, 0, 1, 0, 0, 1,\n",
       "         0, 1, 0, 0, 1, 0, 0, 0, 0, 1, 0, 1, 1, 0, 1, 0, 1, 1, 0, 0, 0, 1,\n",
       "         0, 1, 0, 0, 0, 1, 0, 1, 1, 0, 0, 1, 0, 0, 0, 1, 1, 0, 0, 0, 1, 0,\n",
       "         1, 1, 0, 0]])}"
      ]
     },
     "execution_count": 7,
     "metadata": {},
     "output_type": "execute_result"
    }
   ],
   "source": [
    "ps2"
   ]
  },
  {
   "cell_type": "code",
   "execution_count": 8,
   "id": "a6b2fc59",
   "metadata": {},
   "outputs": [],
   "source": [
    "new = [envs[0].register_proposals((ps1, ps2))]"
   ]
  },
  {
   "cell_type": "code",
   "execution_count": 12,
   "id": "182454ab",
   "metadata": {},
   "outputs": [
    {
     "data": {
      "text/plain": [
       "array([[0]])"
      ]
     },
     "execution_count": 12,
     "metadata": {},
     "output_type": "execute_result"
    }
   ],
   "source": [
    "d1 = agents[0].make_decisions([state[0] for state in states])[0]\n",
    "d1"
   ]
  },
  {
   "cell_type": "code",
   "execution_count": 13,
   "id": "bcfe72c6",
   "metadata": {},
   "outputs": [
    {
     "data": {
      "text/plain": [
       "array([[0]])"
      ]
     },
     "execution_count": 13,
     "metadata": {},
     "output_type": "execute_result"
    }
   ],
   "source": [
    "d2 = agents[1].make_decisions([state[1] for state in states])[0]\n",
    "d2"
   ]
  },
  {
   "cell_type": "code",
   "execution_count": 15,
   "id": "7c5ac604",
   "metadata": {},
   "outputs": [],
   "source": [
    "new = envs[0].register_decisions((d1, d2))"
   ]
  },
  {
   "cell_type": "code",
   "execution_count": 16,
   "id": "0147093a",
   "metadata": {},
   "outputs": [
    {
     "data": {
      "text/plain": [
       "array([6, 7, 5, 8, 7, 9, 5])"
      ]
     },
     "execution_count": 16,
     "metadata": {},
     "output_type": "execute_result"
    }
   ],
   "source": [
    "a1 = agents[0].act([state[0] for state in states])[0]\n",
    "a1"
   ]
  },
  {
   "cell_type": "code",
   "execution_count": 17,
   "id": "af7965fc",
   "metadata": {},
   "outputs": [
    {
     "data": {
      "text/plain": [
       "array([4, 9, 1, 6, 7, 8, 4])"
      ]
     },
     "execution_count": 17,
     "metadata": {},
     "output_type": "execute_result"
    }
   ],
   "source": [
    "a2 = agents[1].act([state[1] for state in states])[0]\n",
    "a2"
   ]
  },
  {
   "cell_type": "code",
   "execution_count": 20,
   "id": "537f8cdc",
   "metadata": {},
   "outputs": [
    {
     "data": {
      "text/plain": [
       "({0: {'features': array([ 1.00000000e+00,  0.00000000e+00,  9.91173610e-02,  2.78800004e-03,\n",
       "           8.42898414e-02,  4.71289083e-02,  1.74067065e-01,  5.24999976e-01,\n",
       "           1.29869998e+00,  2.00000000e-02,  6.36326964e-04,  4.67302045e-04,\n",
       "           5.90489984e-01,  5.90489984e-01,  3.84055451e-03,  3.84055451e-03,\n",
       "           1.60112907e-03,  1.55656890e-03,  9.60677455e-04,  6.22627558e-04,\n",
       "           3.89142224e-05,  7.07690255e-04,  6.00000024e-01,  4.00000006e-01,\n",
       "           6.99999988e-01,  8.99999976e-01,  5.00000000e-01,  1.00000001e-01,\n",
       "           2.42397352e-03, -2.42397352e-03,  8.00000038e-03,  6.99999975e-03,\n",
       "           6.00000005e-03,  6.99999975e-03,  1.25946522e-01,  3.47867042e+00,\n",
       "           7.40582943e-02,  9.98297811e-01,  2.92973667e-02,  1.65226614e-03,\n",
       "           2.29830295e-02,  1.98037233e-02,  2.29830295e-02]),\n",
       "   'action_mask': array([[1., 1., 1., 1., 1., 1., 1., 1., 1., 1.],\n",
       "          [1., 1., 1., 1., 1., 1., 1., 1., 1., 1.],\n",
       "          [1., 1., 1., 1., 1., 1., 1., 1., 1., 1.],\n",
       "          [1., 1., 1., 1., 1., 1., 1., 1., 1., 1.],\n",
       "          [1., 1., 1., 1., 1., 1., 1., 1., 1., 1.],\n",
       "          [1., 1., 1., 1., 1., 1., 1., 1., 1., 1.],\n",
       "          [1., 1., 1., 1., 1., 1., 1., 1., 1., 1.]]),\n",
       "   'promises': array([[[ True,  True,  True,  True,  True,  True,  True,  True,  True,\n",
       "             True],\n",
       "           [ True,  True,  True,  True,  True,  True,  True,  True,  True,\n",
       "             True],\n",
       "           [ True,  True,  True,  True,  True,  True,  True,  True,  True,\n",
       "             True],\n",
       "           [ True,  True,  True,  True,  True,  True,  True,  True,  True,\n",
       "             True],\n",
       "           [ True,  True,  True,  True,  True,  True,  True,  True,  True,\n",
       "             True],\n",
       "           [ True,  True,  True,  True,  True,  True,  True,  True,  True,\n",
       "             True],\n",
       "           [ True,  True,  True,  True,  True,  True,  True,  True,  True,\n",
       "             True]]]),\n",
       "   'proposals': array([[[ True,  True,  True,  True,  True,  True,  True,  True,  True,\n",
       "             True],\n",
       "           [ True,  True,  True,  True,  True,  True,  True,  True,  True,\n",
       "             True],\n",
       "           [ True,  True,  True,  True,  True,  True,  True,  True,  True,\n",
       "             True],\n",
       "           [ True,  True,  True,  True,  True,  True,  True,  True,  True,\n",
       "             True],\n",
       "           [ True,  True,  True,  True,  True,  True,  True,  True,  True,\n",
       "             True],\n",
       "           [ True,  True,  True,  True,  True,  True,  True,  True,  True,\n",
       "             True],\n",
       "           [ True,  True,  True,  True,  True,  True,  True,  True,  True,\n",
       "             True]]])},\n",
       "  1: {'features': array([ 0.00000000e+00,  1.00000000e+00,  9.91173610e-02,  2.78800004e-03,\n",
       "           8.42898414e-02,  4.71289083e-02,  1.74067065e-01,  5.24999976e-01,\n",
       "           1.29869998e+00,  2.00000000e-02,  6.36326964e-04,  4.67302045e-04,\n",
       "           5.90489984e-01,  5.90489984e-01,  3.84055451e-03,  3.84055451e-03,\n",
       "           1.60112907e-03,  1.55656890e-03,  9.60677455e-04,  6.22627558e-04,\n",
       "           3.89142224e-05,  7.07690255e-04,  6.00000024e-01,  4.00000006e-01,\n",
       "           6.99999988e-01,  8.99999976e-01,  5.00000000e-01,  1.00000001e-01,\n",
       "           2.42397352e-03, -2.42397352e-03,  8.00000038e-03,  6.99999975e-03,\n",
       "           6.00000005e-03,  6.99999975e-03,  1.25946522e-01,  3.47867042e+00,\n",
       "           7.40582943e-02,  9.98297811e-01,  5.63124195e-02,  1.65226614e-03,\n",
       "           6.24631867e-02,  5.38224801e-02,  6.24631867e-02]),\n",
       "   'action_mask': array([[1., 1., 1., 1., 1., 1., 1., 1., 1., 1.],\n",
       "          [1., 1., 1., 1., 1., 1., 1., 1., 1., 1.],\n",
       "          [1., 1., 1., 1., 1., 1., 1., 1., 1., 1.],\n",
       "          [1., 1., 1., 1., 1., 1., 1., 1., 1., 1.],\n",
       "          [1., 1., 1., 1., 1., 1., 1., 1., 1., 1.],\n",
       "          [1., 1., 1., 1., 1., 1., 1., 1., 1., 1.],\n",
       "          [1., 1., 1., 1., 1., 1., 1., 1., 1., 1.]]),\n",
       "   'promises': array([[[ True,  True,  True,  True,  True,  True,  True,  True,  True,\n",
       "             True],\n",
       "           [ True,  True,  True,  True,  True,  True,  True,  True,  True,\n",
       "             True],\n",
       "           [ True,  True,  True,  True,  True,  True,  True,  True,  True,\n",
       "             True],\n",
       "           [ True,  True,  True,  True,  True,  True,  True,  True,  True,\n",
       "             True],\n",
       "           [ True,  True,  True,  True,  True,  True,  True,  True,  True,\n",
       "             True],\n",
       "           [ True,  True,  True,  True,  True,  True,  True,  True,  True,\n",
       "             True],\n",
       "           [ True,  True,  True,  True,  True,  True,  True,  True,  True,\n",
       "             True]]]),\n",
       "   'proposals': array([[[ True,  True,  True,  True,  True,  True,  True,  True,  True,\n",
       "             True],\n",
       "           [ True,  True,  True,  True,  True,  True,  True,  True,  True,\n",
       "             True],\n",
       "           [ True,  True,  True,  True,  True,  True,  True,  True,  True,\n",
       "             True],\n",
       "           [ True,  True,  True,  True,  True,  True,  True,  True,  True,\n",
       "             True],\n",
       "           [ True,  True,  True,  True,  True,  True,  True,  True,  True,\n",
       "             True],\n",
       "           [ True,  True,  True,  True,  True,  True,  True,  True,  True,\n",
       "             True],\n",
       "           [ True,  True,  True,  True,  True,  True,  True,  True,  True,\n",
       "             True]]])}},\n",
       " {0: 0.02298303, 1: 0.062463187},\n",
       " {'__all__': False},\n",
       " {})"
      ]
     },
     "execution_count": 20,
     "metadata": {},
     "output_type": "execute_result"
    }
   ],
   "source": [
    "envs[0].step({0 : a1, 1 : a2})"
   ]
  }
 ],
 "metadata": {
  "kernelspec": {
   "display_name": "Python 3 (ipykernel)",
   "language": "python",
   "name": "python3"
  },
  "language_info": {
   "codemirror_mode": {
    "name": "ipython",
    "version": 3
   },
   "file_extension": ".py",
   "mimetype": "text/x-python",
   "name": "python",
   "nbconvert_exporter": "python",
   "pygments_lexer": "ipython3",
   "version": "3.10.6"
  }
 },
 "nbformat": 4,
 "nbformat_minor": 5
}
