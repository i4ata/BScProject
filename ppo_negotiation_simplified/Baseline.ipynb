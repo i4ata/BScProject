{
 "cells": [
  {
   "cell_type": "code",
   "execution_count": 1,
   "id": "13ce695b",
   "metadata": {},
   "outputs": [],
   "source": [
    "import helpers\n",
    "import numpy as np\n",
    "import scipy.stats as stats\n",
    "import seaborn as sns\n",
    "import matplotlib.pyplot as plt\n",
    "import pandas as pd\n",
    "import os"
   ]
  },
  {
   "cell_type": "code",
   "execution_count": 2,
   "id": "5d5bb77c",
   "metadata": {},
   "outputs": [],
   "source": [
    "def get_data():\n",
    "    \n",
    "    path = 'baseline/'\n",
    "    os.makedirs(path, exist_ok=True)\n",
    "    \n",
    "    try:\n",
    "        \n",
    "        rs2 = np.load(path + 'rs2.npy')\n",
    "        rs3 = np.load(path + 'rs3.npy')\n",
    "        rs4 = np.load(path + 'rs4.npy')\n",
    "        \n",
    "    except Exception as e:\n",
    "        \n",
    "        env2 = helpers.create_envs(n = 1, yamls_filename='yamls/2_region_yamls')[0]\n",
    "        env3 = helpers.create_envs(n = 1, yamls_filename='yamls/3_region_yamls')[0]\n",
    "        env4 = helpers.create_envs(n = 1, yamls_filename='yamls/4_region_yamls')[0]\n",
    "        \n",
    "        rs2 = helpers.get_baseline_cum_returns(env2, n_trials=1_000)\n",
    "        rs3 = helpers.get_baseline_cum_returns(env3, n_trials=1_000)\n",
    "        rs4 = helpers.get_baseline_cum_returns(env4, n_trials=1_000)\n",
    "        \n",
    "        np.save(path + 'rs2.npy', rs2)\n",
    "        np.save(path + 'rs3.npy', rs3)\n",
    "        np.save(path + 'rs4.npy', rs4)\n",
    "        \n",
    "    return pd.DataFrame(np.stack((rs2, rs3, rs4)).T, columns=['2 agents', '3 agents', '4 agents'])"
   ]
  },
  {
   "cell_type": "code",
   "execution_count": 3,
   "id": "d6d215ad",
   "metadata": {},
   "outputs": [
    {
     "data": {
      "text/html": [
       "<div>\n",
       "<style scoped>\n",
       "    .dataframe tbody tr th:only-of-type {\n",
       "        vertical-align: middle;\n",
       "    }\n",
       "\n",
       "    .dataframe tbody tr th {\n",
       "        vertical-align: top;\n",
       "    }\n",
       "\n",
       "    .dataframe thead th {\n",
       "        text-align: right;\n",
       "    }\n",
       "</style>\n",
       "<table border=\"1\" class=\"dataframe\">\n",
       "  <thead>\n",
       "    <tr style=\"text-align: right;\">\n",
       "      <th></th>\n",
       "      <th>2 agents</th>\n",
       "      <th>3 agents</th>\n",
       "      <th>4 agents</th>\n",
       "    </tr>\n",
       "  </thead>\n",
       "  <tbody>\n",
       "    <tr>\n",
       "      <th>0</th>\n",
       "      <td>9.869253</td>\n",
       "      <td>8.899749</td>\n",
       "      <td>9.014548</td>\n",
       "    </tr>\n",
       "    <tr>\n",
       "      <th>1</th>\n",
       "      <td>9.792832</td>\n",
       "      <td>9.341572</td>\n",
       "      <td>9.030685</td>\n",
       "    </tr>\n",
       "    <tr>\n",
       "      <th>2</th>\n",
       "      <td>10.308415</td>\n",
       "      <td>8.328156</td>\n",
       "      <td>8.796846</td>\n",
       "    </tr>\n",
       "    <tr>\n",
       "      <th>3</th>\n",
       "      <td>9.958229</td>\n",
       "      <td>9.050296</td>\n",
       "      <td>9.121453</td>\n",
       "    </tr>\n",
       "    <tr>\n",
       "      <th>4</th>\n",
       "      <td>10.857452</td>\n",
       "      <td>9.090846</td>\n",
       "      <td>7.953533</td>\n",
       "    </tr>\n",
       "    <tr>\n",
       "      <th>...</th>\n",
       "      <td>...</td>\n",
       "      <td>...</td>\n",
       "      <td>...</td>\n",
       "    </tr>\n",
       "    <tr>\n",
       "      <th>995</th>\n",
       "      <td>10.438525</td>\n",
       "      <td>9.417021</td>\n",
       "      <td>9.344658</td>\n",
       "    </tr>\n",
       "    <tr>\n",
       "      <th>996</th>\n",
       "      <td>9.984516</td>\n",
       "      <td>9.154540</td>\n",
       "      <td>8.494496</td>\n",
       "    </tr>\n",
       "    <tr>\n",
       "      <th>997</th>\n",
       "      <td>10.188760</td>\n",
       "      <td>9.256979</td>\n",
       "      <td>8.412583</td>\n",
       "    </tr>\n",
       "    <tr>\n",
       "      <th>998</th>\n",
       "      <td>11.150075</td>\n",
       "      <td>9.057225</td>\n",
       "      <td>8.793856</td>\n",
       "    </tr>\n",
       "    <tr>\n",
       "      <th>999</th>\n",
       "      <td>10.920850</td>\n",
       "      <td>8.126182</td>\n",
       "      <td>8.795667</td>\n",
       "    </tr>\n",
       "  </tbody>\n",
       "</table>\n",
       "<p>1000 rows × 3 columns</p>\n",
       "</div>"
      ],
      "text/plain": [
       "      2 agents  3 agents  4 agents\n",
       "0     9.869253  8.899749  9.014548\n",
       "1     9.792832  9.341572  9.030685\n",
       "2    10.308415  8.328156  8.796846\n",
       "3     9.958229  9.050296  9.121453\n",
       "4    10.857452  9.090846  7.953533\n",
       "..         ...       ...       ...\n",
       "995  10.438525  9.417021  9.344658\n",
       "996   9.984516  9.154540  8.494496\n",
       "997  10.188760  9.256979  8.412583\n",
       "998  11.150075  9.057225  8.793856\n",
       "999  10.920850  8.126182  8.795667\n",
       "\n",
       "[1000 rows x 3 columns]"
      ]
     },
     "execution_count": 3,
     "metadata": {},
     "output_type": "execute_result"
    }
   ],
   "source": [
    "rs_df = get_data()\n",
    "rs_df"
   ]
  },
  {
   "cell_type": "code",
   "execution_count": 5,
   "id": "2c0826b4",
   "metadata": {},
   "outputs": [
    {
     "data": {
      "text/plain": [
       "<Axes: >"
      ]
     },
     "execution_count": 5,
     "metadata": {},
     "output_type": "execute_result"
    },
    {
     "data": {
      "image/png": "[encoded data removed]",
      "text/plain": [
       "<Figure size 640x480 with 1 Axes>"
      ]
     },
     "metadata": {},
     "output_type": "display_data"
    }
   ],
   "source": [
    "sns.boxplot(rs_df)\n",
    "plt.show()"
   ]
  },
  {
   "cell_type": "code",
   "execution_count": 8,
   "id": "96235156",
   "metadata": {},
   "outputs": [
    {
     "data": {
      "text/plain": [
       "F_onewayResult(statistic=2468.4654925801, pvalue=0.0)"
      ]
     },
     "execution_count": 8,
     "metadata": {},
     "output_type": "execute_result"
    }
   ],
   "source": [
    "stats.f_oneway(rs2, rs3, rs4)"
   ]
  },
  {
   "cell_type": "code",
   "execution_count": 10,
   "id": "241e2fdc",
   "metadata": {},
   "outputs": [
    {
     "data": {
      "text/plain": [
       "<scipy.stats._hypotests.TukeyHSDResult at 0x7fd3fb01bd90>"
      ]
     },
     "execution_count": 10,
     "metadata": {},
     "output_type": "execute_result"
    }
   ],
   "source": [
    "tuk = stats.tukey_hsd(rs2, rs3, rs4)\n",
    "tuk"
   ]
  },
  {
   "cell_type": "code",
   "execution_count": 17,
   "id": "89874d72",
   "metadata": {},
   "outputs": [
    {
     "data": {
      "text/plain": [
       "(0.33355116615777686, 0.2628018351762159, 0.2233088857781947)"
      ]
     },
     "execution_count": 17,
     "metadata": {},
     "output_type": "execute_result"
    }
   ],
   "source": [
    "rs2.var(), rs3.var(), rs4.var()"
   ]
  },
  {
   "cell_type": "code",
   "execution_count": 18,
   "id": "8593082f",
   "metadata": {},
   "outputs": [
    {
     "data": {
      "text/plain": [
       "LeveneResult(statistic=19.79388056473998, pvalue=2.883414852696491e-09)"
      ]
     },
     "execution_count": 18,
     "metadata": {},
     "output_type": "execute_result"
    }
   ],
   "source": [
    "stats.levene(rs2, rs3, rs4)"
   ]
  },
  {
   "cell_type": "code",
   "execution_count": 19,
   "id": "6e750397",
   "metadata": {},
   "outputs": [],
   "source": [
    "bc2, bc3, bc4 = stats.boxcox(rs2), stats.boxcox(rs3), stats.boxcox(rs4)"
   ]
  },
  {
   "cell_type": "code",
   "execution_count": 26,
   "id": "6e2e99c2",
   "metadata": {},
   "outputs": [],
   "source": [
    "import seaborn as sns"
   ]
  },
  {
   "cell_type": "code",
   "execution_count": 32,
   "id": "a68bcc95",
   "metadata": {},
   "outputs": [
    {
     "data": {
      "image/png": "[encoded data removed]",
      "text/plain": [
       "<Figure size 640x480 with 1 Axes>"
      ]
     },
     "metadata": {},
     "output_type": "display_data"
    }
   ],
   "source": [
    "df = pd.DataFrame(np.stack((rs2, rs3, rs4)))\n",
    "sns.boxplot(df.T)\n",
    "plt.show()"
   ]
  },
  {
   "cell_type": "code",
   "execution_count": 20,
   "id": "27f2f04b",
   "metadata": {},
   "outputs": [
    {
     "data": {
      "text/plain": [
       "2.987852611501489"
      ]
     },
     "execution_count": 20,
     "metadata": {},
     "output_type": "execute_result"
    }
   ],
   "source": [
    "stats.boxcox(a)[1]"
   ]
  },
  {
   "cell_type": "code",
   "execution_count": 19,
   "id": "6ad6fa05",
   "metadata": {},
   "outputs": [
    {
     "data": {
      "text/plain": [
       "59.04233714080136"
      ]
     },
     "execution_count": 19,
     "metadata": {},
     "output_type": "execute_result"
    }
   ],
   "source": [
    "stats.boxcox(a)[0].std()"
   ]
  },
  {
   "cell_type": "code",
   "execution_count": 17,
   "id": "57bfa734",
   "metadata": {},
   "outputs": [
    {
     "data": {
      "text/plain": [
       "ShapiroResult(statistic=0.9988633394241333, pvalue=0.7951122522354126)"
      ]
     },
     "execution_count": 17,
     "metadata": {},
     "output_type": "execute_result"
    }
   ],
   "source": [
    "stats.shapiro(stats.boxcox(a)[0])"
   ]
  },
  {
   "cell_type": "code",
   "execution_count": 19,
   "id": "08caed0a",
   "metadata": {},
   "outputs": [
    {
     "data": {
      "text/plain": [
       "(21, 2)"
      ]
     },
     "execution_count": 19,
     "metadata": {},
     "output_type": "execute_result"
    }
   ],
   "source": [
    "envs[0].reset()\n",
    "envs[0].global_state['reward_all_regions']['value'].shape"
   ]
  },
  {
   "cell_type": "code",
   "execution_count": 3,
   "id": "e062607a",
   "metadata": {},
   "outputs": [
    {
     "name": "stderr",
     "output_type": "stream",
     "text": [
      "100%|███████████████████████████████████████| 1000/1000 [00:37<00:00, 26.35it/s]\n"
     ]
    }
   ],
   "source": [
    "r = envs[0].estimate_reward_distribution()"
   ]
  },
  {
   "cell_type": "code",
   "execution_count": 4,
   "id": "5e263fc5",
   "metadata": {},
   "outputs": [
    {
     "data": {
      "text/plain": [
       "array([0.11810149, 0.11719461, 0.11682205, 0.11741002], dtype=float32)"
      ]
     },
     "execution_count": 4,
     "metadata": {},
     "output_type": "execute_result"
    }
   ],
   "source": [
    "r.mean(0)"
   ]
  },
  {
   "cell_type": "code",
   "execution_count": 4,
   "id": "2eca4bdd",
   "metadata": {},
   "outputs": [
    {
     "data": {
      "text/plain": [
       "array([0.1837245, 0.1839157], dtype=float32)"
      ]
     },
     "execution_count": 4,
     "metadata": {},
     "output_type": "execute_result"
    }
   ],
   "source": [
    "r.mean(0)"
   ]
  },
  {
   "cell_type": "code",
   "execution_count": 12,
   "id": "7a8a5884",
   "metadata": {},
   "outputs": [
    {
     "data": {
      "text/plain": [
       "array([0.12683399, 0.05198448, 0.03085149, 0.07488997, 0.02121781,\n",
       "       0.2828288 , 0.01516363, 0.02213184, 0.22927459, 0.03168111,\n",
       "       0.07750511, 0.08832972, 0.25673124, 0.14492033, 0.07246767,\n",
       "       0.9541912 , 0.5645132 , 0.23426142, 0.27817056, 0.11703864,\n",
       "       0.66655827, 0.08648663, 0.26146117, 0.03011092, 0.20305464,\n",
       "       0.05462708, 0.21177474], dtype=float32)"
      ]
     },
     "execution_count": 12,
     "metadata": {},
     "output_type": "execute_result"
    }
   ],
   "source": [
    "r.mean(0)"
   ]
  },
  {
   "cell_type": "code",
   "execution_count": 3,
   "id": "8de2264e",
   "metadata": {},
   "outputs": [],
   "source": [
    "states = [env.reset() for env in envs]"
   ]
  },
  {
   "cell_type": "code",
   "execution_count": 4,
   "id": "db6b3c37",
   "metadata": {},
   "outputs": [],
   "source": [
    "new_states = helpers.proposals_step(agents, envs, states)"
   ]
  },
  {
   "cell_type": "code",
   "execution_count": 5,
   "id": "be1bcf06",
   "metadata": {},
   "outputs": [],
   "source": [
    "new_new_states = helpers.decisions_step(agents, envs, new_states)"
   ]
  },
  {
   "cell_type": "code",
   "execution_count": 6,
   "id": "a7750a73",
   "metadata": {},
   "outputs": [],
   "source": [
    "s, r = helpers.action_step(agents, envs, new_new_states)"
   ]
  },
  {
   "cell_type": "code",
   "execution_count": 7,
   "id": "8a6c5874",
   "metadata": {},
   "outputs": [
    {
     "data": {
      "text/plain": [
       "({0: 0.05888777, 1: 0.026819868, 2: 0.14720672, 3: 0.16434895},\n",
       " {0: 0.280478, 1: 0.02202305, 2: 0.12687464, 3: 0.16556157},\n",
       " {0: 0.0023812728, 1: 0.013697322, 2: 0.21270674, 3: 0.0061370214},\n",
       " {0: 0.1854819, 1: 0.054339632, 2: 0.265243, 3: 0.10809251},\n",
       " {0: 0.08262519, 1: 0.016553843, 2: 0.31943807, 3: 0.20569865})"
      ]
     },
     "execution_count": 7,
     "metadata": {},
     "output_type": "execute_result"
    }
   ],
   "source": [
    "r"
   ]
  },
  {
   "cell_type": "code",
   "execution_count": null,
   "id": "4a26433d",
   "metadata": {},
   "outputs": [],
   "source": []
  }
 ],
 "metadata": {
  "kernelspec": {
   "display_name": "Python 3 (ipykernel)",
   "language": "python",
   "name": "python3"
  },
  "language_info": {
   "codemirror_mode": {
    "name": "ipython",
    "version": 3
   },
   "file_extension": ".py",
   "mimetype": "text/x-python",
   "name": "python",
   "nbconvert_exporter": "python",
   "pygments_lexer": "ipython3",
   "version": "3.10.6"
  }
 },
 "nbformat": 4,
 "nbformat_minor": 5
}
