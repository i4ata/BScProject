{
  "nbformat": 4,
  "nbformat_minor": 0,
  "metadata": {
    "colab": {
      "provenance": [],
      "gpuType": "T4",
      "authorship_tag": "ABX9TyN83Z3JWVxGmYuTjeTVv1bk",
      "include_colab_link": true
    },
    "kernelspec": {
      "name": "python3",
      "display_name": "Python 3"
    },
    "language_info": {
      "name": "python"
    },
    "accelerator": "GPU",
    "gpuClass": "standard"
  },
  "cells": [
    {
      "cell_type": "markdown",
      "metadata": {
        "id": "view-in-github",
        "colab_type": "text"
      },
      "source": [
        "<a href=\"https://colab.research.google.com/github/i4ata/BScProject/blob/main/PPO_Negotation_Colab.ipynb\" target=\"_parent\"><img src=\"https://colab.research.google.com/assets/colab-badge.svg\" alt=\"Open In Colab\"/></a>"
      ]
    },
    {
      "cell_type": "code",
      "execution_count": 1,
      "metadata": {
        "colab": {
          "base_uri": "https://localhost:8080/"
        },
        "id": "w1E-lIdNUzwA",
        "outputId": "6c7657d7-7e47-4704-ef4a-2c497823781e"
      },
      "outputs": [
        {
          "output_type": "stream",
          "name": "stdout",
          "text": [
            "Cloning into 'BScProject'...\n",
            "remote: Enumerating objects: 866, done.\u001b[K\n",
            "remote: Counting objects: 100% (866/866), done.\u001b[K\n",
            "remote: Compressing objects: 100% (443/443), done.\u001b[K\n",
            "remote: Total 866 (delta 501), reused 780 (delta 417), pack-reused 0\u001b[K\n",
            "Receiving objects: 100% (866/866), 28.48 MiB | 13.75 MiB/s, done.\n",
            "Resolving deltas: 100% (501/501), done.\n"
          ]
        }
      ],
      "source": [
        "!git clone https://github.com/i4ata/BScProject.git"
      ]
    },
    {
      "cell_type": "code",
      "source": [
        "import os\n",
        "os.chdir('BScProject')\n",
        "!git pull"
      ],
      "metadata": {
        "colab": {
          "base_uri": "https://localhost:8080/"
        },
        "id": "E_a6km5EU74X",
        "outputId": "c2482dd4-470e-4434-dd6a-50b432312ec4"
      },
      "execution_count": 1,
      "outputs": [
        {
          "output_type": "stream",
          "name": "stdout",
          "text": [
            "Already up to date.\n"
          ]
        }
      ]
    },
    {
      "cell_type": "code",
      "source": [
        "from rice import Rice\n",
        "os.chdir('ppo_negotiation')\n",
        "from Agent import Agent\n",
        "import torch\n",
        "device = 'cuda' if torch.cuda.is_available() else 'cpu'\n",
        "device"
      ],
      "metadata": {
        "colab": {
          "base_uri": "https://localhost:8080/",
          "height": 35
        },
        "id": "EwJhMxcSVLZE",
        "outputId": "84f5a54a-06a9-45f2-f06a-646bf03b5def"
      },
      "execution_count": 2,
      "outputs": [
        {
          "output_type": "execute_result",
          "data": {
            "text/plain": [
              "'cuda'"
            ],
            "application/vnd.google.colaboratory.intrinsic+json": {
              "type": "string"
            }
          },
          "metadata": {},
          "execution_count": 2
        }
      ]
    },
    {
      "cell_type": "code",
      "source": [
        "env = Rice(region_yamls_filename='fewer_region_yamls/')\n",
        "initial_state = env.reset()"
      ],
      "metadata": {
        "colab": {
          "base_uri": "https://localhost:8080/"
        },
        "id": "nnNX9n8MVZ5E",
        "outputId": "8b8b8e0f-021a-4d83-c740-23d08efc3a94"
      },
      "execution_count": 3,
      "outputs": [
        {
          "output_type": "stream",
          "name": "stderr",
          "text": [
            "/usr/local/lib/python3.10/dist-packages/ipykernel/ipkernel.py:283: DeprecationWarning: `should_run_async` will not call `transform_cell` automatically in the future. Please pass the result to `transformed_cell` argument and any exception that happen during thetransform in `preprocessing_exc_tuple` in IPython 7.17 and above.\n",
            "  and should_run_async(code)\n"
          ]
        }
      ]
    },
    {
      "cell_type": "code",
      "source": [
        "agents = [Agent(env, initial_state[agent_id], agent_id, device = device) for agent_id in range(env.num_agents)]"
      ],
      "metadata": {
        "id": "ckK-rSeoVwNq"
      },
      "execution_count": 4,
      "outputs": []
    },
    {
      "cell_type": "code",
      "source": [
        "_ = agents[0].act(initial_state[0])\n",
        "_ = agents[0].make_proposals(initial_state[0])\n",
        "_ = agents[0].make_decisions(initial_state[0])\n",
        "\n",
        "_ = agents[0].act(initial_state[0])\n",
        "_ = agents[0].make_proposals(initial_state[0])\n",
        "_ = agents[0].make_decisions(initial_state[0])"
      ],
      "metadata": {
        "id": "Zld5nWbJV6Ee"
      },
      "execution_count": 5,
      "outputs": []
    },
    {
      "cell_type": "code",
      "source": [
        "agents[0].nets['activityNet'].buffer.rewards.extend([.5, .5])\n",
        "agents[0].nets['proposalNet'].buffer.rewards.extend([.5, .5])\n",
        "agents[0].nets['decisionNet'].buffer.rewards.extend([.5, .5])\n",
        "\n",
        "agents[0].nets['activityNet'].buffer.is_terminals.extend([0, 1])\n",
        "agents[0].nets['proposalNet'].buffer.is_terminals.extend([0, 1])\n",
        "agents[0].nets['decisionNet'].buffer.is_terminals.extend([0, 1])"
      ],
      "metadata": {
        "id": "1RyA2Mc5arf4"
      },
      "execution_count": 6,
      "outputs": []
    },
    {
      "cell_type": "code",
      "source": [
        "agents[0].update()"
      ],
      "metadata": {
        "colab": {
          "base_uri": "https://localhost:8080/"
        },
        "id": "BmrzZKEnb3_z",
        "outputId": "adb2c7e5-293e-435b-e32a-70569436399f"
      },
      "execution_count": 7,
      "outputs": [
        {
          "output_type": "stream",
          "name": "stdout",
          "text": [
            "torch.Size([2, 847])\n",
            "torch.Size([2, 187])\n",
            "torch.Size([2, 77])\n"
          ]
        }
      ]
    }
  ]
}