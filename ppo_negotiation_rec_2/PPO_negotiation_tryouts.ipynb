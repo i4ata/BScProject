{
 "cells": [
  {
   "cell_type": "code",
   "execution_count": 1,
   "id": "03fe22d6",
   "metadata": {},
   "outputs": [
    {
     "name": "stdout",
     "output_type": "stream",
     "text": [
      "Python 3.7.16\r\n"
     ]
    }
   ],
   "source": [
    "!python --version"
   ]
  },
  {
   "cell_type": "code",
   "execution_count": 1,
   "id": "019a4f08",
   "metadata": {},
   "outputs": [],
   "source": [
    "from Agent import Agent\n",
    "\n",
    "import torch\n",
    "\n",
    "import numpy as np\n",
    "import pandas as pd\n",
    "\n",
    "import os\n",
    "import sys\n",
    "os.chdir(\"..\")\n",
    "from rice_nego import Rice\n",
    "\n",
    "import matplotlib.pyplot as plt\n",
    "import seaborn as sns\n",
    "from tqdm import tqdm"
   ]
  },
  {
   "cell_type": "code",
   "execution_count": 2,
   "id": "be27af7c",
   "metadata": {},
   "outputs": [],
   "source": [
    "def create_agent(env, state, id):\n",
    "    return Agent(len(state[id]['features']), env.action_space[id], env.num_regions, id = id)"
   ]
  },
  {
   "cell_type": "code",
   "execution_count": 3,
   "id": "b323d716",
   "metadata": {},
   "outputs": [],
   "source": [
    "envs = [Rice(id = i, region_yamls_filename='2_region_yamls', num_discrete_action_levels=5) for i in range(5)]\n",
    "initial_state = envs[0].reset()\n",
    "agents = [create_agent(envs[0], initial_state, agent_id) for agent_id in range(envs[0].num_regions)]"
   ]
  },
  {
   "cell_type": "code",
   "execution_count": 4,
   "id": "4ca96b9f",
   "metadata": {},
   "outputs": [],
   "source": [
    "def step1(agents, envs, states):\n",
    "    \n",
    "    # Get actions in the shape [agent_id, {'proposals' : [env_id, proposal], 'promise' : [env_id, promise]}]\n",
    "    actions = [agent.make_proposals([state[agent.id] for state in states]) for agent in agents]\n",
    "        \n",
    "    # Transform actions to [env_id, {agent_id, : {'proposals' : proposal, 'promise', 'promise'}}]\n",
    "    actions = [\n",
    "        {\n",
    "            agent_id : {\n",
    "                'proposals' : actions[agent_id]['proposals'][env_id],\n",
    "                'promises' : actions[agent_id]['promises'][env_id]\n",
    "            }\n",
    "            for agent_id in range(len(agents))\n",
    "        }\n",
    "        for env_id in range(len(envs))\n",
    "    ]\n",
    "    \n",
    "    # Pass the proposals to the environments\n",
    "    states = [env.register_proposals(actions[i]) for i, env in enumerate(envs)]\n",
    "    return states"
   ]
  },
  {
   "cell_type": "code",
   "execution_count": 5,
   "id": "98746754",
   "metadata": {},
   "outputs": [],
   "source": [
    "def step2(agents, envs, states):\n",
    "    \n",
    "    # Get actions in the shape [agent_id, env_id, decision]\n",
    "    actions = [agent.make_decisions([state[agent.id] for state in states]) for agent in agents]\n",
    "    \n",
    "    # Transform actions to [env_id, {agent_id : decision}]\n",
    "    actions = [\n",
    "        {\n",
    "            agent_id : actions[agent_id][env_id]\n",
    "            for agent_id in range(len(agents))\n",
    "        }\n",
    "        for env_id in range(len(envs))\n",
    "    ]\n",
    "    \n",
    "    # Pass the decisions to the environments\n",
    "    states = [env.register_decisions(actions[i]) for i, env in enumerate(envs)]\n",
    "    return states"
   ]
  },
  {
   "cell_type": "code",
   "execution_count": 6,
   "id": "368778fe",
   "metadata": {},
   "outputs": [],
   "source": [
    "def act(agents, envs, states):\n",
    "    \n",
    "    actions = {agent_id : agents[agent_id].act([state[agent_id] for state in states]) \n",
    "               for agent_id in range(len(agents))}\n",
    "    \n",
    "    actions = [\n",
    "        {\n",
    "            agent_id : actions[agent_id][env_id]\n",
    "            for agent_id in range(len(agents))\n",
    "        }\n",
    "        for env_id in range(len(envs))\n",
    "    ]\n",
    "    \n",
    "    states, rewards, _, _ = zip(*[env.step(actions[i]) for (i, env) in enumerate(envs)])\n",
    "    \n",
    "    return states, rewards"
   ]
  },
  {
   "cell_type": "code",
   "execution_count": 7,
   "id": "840e6e1e",
   "metadata": {
    "scrolled": false
   },
   "outputs": [
    {
     "name": "stderr",
     "output_type": "stream",
     "text": [
      "  0%|                                                                                                               | 0/20 [00:03<?, ?it/s]\n"
     ]
    },
    {
     "ename": "NameError",
     "evalue": "name 'b' is not defined",
     "output_type": "error",
     "traceback": [
      "\u001b[0;31m---------------------------------------------------------------------------\u001b[0m",
      "\u001b[0;31mNameError\u001b[0m                                 Traceback (most recent call last)",
      "Cell \u001b[0;32mIn[7], line 41\u001b[0m\n\u001b[1;32m     39\u001b[0m \u001b[38;5;28;01mfor\u001b[39;00m agent \u001b[38;5;129;01min\u001b[39;00m agents:\n\u001b[1;32m     40\u001b[0m     agent\u001b[38;5;241m.\u001b[39mupdate()\n\u001b[0;32m---> 41\u001b[0m \u001b[43mb\u001b[49m\n",
      "\u001b[0;31mNameError\u001b[0m: name 'b' is not defined"
     ]
    }
   ],
   "source": [
    "episode_length = envs[0].episode_length\n",
    "negotiation_steps = envs[0].max_negotiation_steps\n",
    "\n",
    "# The terminal states are the same every time\n",
    "is_terminals = np.zeros(len(envs) * negotiation_steps, dtype = bool)\n",
    "is_terminals[range(negotiation_steps - 1, len(is_terminals), negotiation_steps)] = True\n",
    "\n",
    "for epoch in tqdm(range(20)):\n",
    "    \n",
    "    for batch in range(2):\n",
    "        states = [env.reset() for env in envs]\n",
    "        for t in range(episode_length):\n",
    "            \n",
    "            for agent in agents:\n",
    "                agent.reset_negotiation_hs()\n",
    "\n",
    "            for step in range(negotiation_steps):\n",
    "                states = step1(agents, envs, states)\n",
    "                states = step2(agents, envs, states)\n",
    "                \n",
    "                for agent in agents:\n",
    "                    agent.nets['proposalNet'].buffer.rewards.extend(\n",
    "                        [env.global_negotiation_state['rewards_proposals'][t][step][agent.id] for env in envs]\n",
    "                    )\n",
    "                    agent.nets['proposalNet'].buffer.is_terminals.extend(is_terminals)\n",
    "                    \n",
    "                    agent.nets['decisionNet'].buffer.rewards.extend(\n",
    "                        [env.global_negotiation_state['rewards_decisions'][t][step][agent.id] for env in envs]\n",
    "                    )\n",
    "                    agent.nets['decisionNet'].buffer.is_terminals.extend(is_terminals)\n",
    "            \n",
    "            states, rewards = act(agents, envs, states)\n",
    "            all_rewards_actions = np.array([list(reward.values()) for reward in rewards])\n",
    "            \n",
    "            for agent in agents:\n",
    "                agent.nets['activityNet'].buffer.rewards.extend(all_rewards_actions[:, agent.id])\n",
    "                agent.nets['activityNet'].buffer.is_terminals.extend([t == episode_length - 1] * len(envs))\n",
    "            \n",
    "    for agent in agents:\n",
    "        agent.update()\n",
    "    b"
   ]
  },
  {
   "cell_type": "code",
   "execution_count": 10,
   "id": "3129a3ab",
   "metadata": {},
   "outputs": [
    {
     "data": {
      "text/plain": [
       "[<matplotlib.lines.Line2D at 0x7f913d3dbee0>]"
      ]
     },
     "execution_count": 10,
     "metadata": {},
     "output_type": "execute_result"
    },
    {
     "data": {
      "image/png": "[encoded data removed]",
      "text/plain": [
       "<Figure size 640x480 with 1 Axes>"
      ]
     },
     "metadata": {},
     "output_type": "display_data"
    }
   ],
   "source": [
    "plt.plot(agents[1].nets['proposalNet'].loss_collection)"
   ]
  }
 ],
 "metadata": {
  "kernelspec": {
   "display_name": "Python 3 (ipykernel)",
   "language": "python",
   "name": "python3"
  },
  "language_info": {
   "codemirror_mode": {
    "name": "ipython",
    "version": 3
   },
   "file_extension": ".py",
   "mimetype": "text/x-python",
   "name": "python",
   "nbconvert_exporter": "python",
   "pygments_lexer": "ipython3",
   "version": "3.10.6"
  }
 },
 "nbformat": 4,
 "nbformat_minor": 5
}
