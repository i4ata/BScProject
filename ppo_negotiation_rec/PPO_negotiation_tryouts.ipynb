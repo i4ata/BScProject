{
 "cells": [
  {
   "cell_type": "code",
   "execution_count": 2,
   "id": "03fe22d6",
   "metadata": {},
   "outputs": [
    {
     "name": "stdout",
     "output_type": "stream",
     "text": [
      "Python 3.7.16\r\n"
     ]
    }
   ],
   "source": [
    "!python --version"
   ]
  },
  {
   "cell_type": "code",
   "execution_count": 1,
   "id": "019a4f08",
   "metadata": {},
   "outputs": [],
   "source": [
    "from Agent import Agent\n",
    "#from NegotiationNet import NegotiationNet\n",
    "\n",
    "import torch\n",
    "\n",
    "import numpy as np\n",
    "import pandas as pd\n",
    "\n",
    "import os\n",
    "os.chdir(\"..\")\n",
    "from rice_nego import Rice\n",
    "\n",
    "import matplotlib.pyplot as plt\n",
    "from tqdm import tqdm"
   ]
  },
  {
   "cell_type": "code",
   "execution_count": 2,
   "id": "01ca6def",
   "metadata": {},
   "outputs": [],
   "source": [
    "# envs_2_regions = [Rice(region_yamls_filename='2_region_yamls/') for _ in range(5)]\n",
    "# initial_state_2 = envs_2_regions[0].reset()\n",
    "\n",
    "# envs_4_regions = [Rice(region_yamls_filename='identical_region_yamls/') for _ in range(5)]\n",
    "# initial_state_4 = envs_4_regions[0].reset()"
   ]
  },
  {
   "cell_type": "code",
   "execution_count": 3,
   "id": "e2984175",
   "metadata": {},
   "outputs": [],
   "source": [
    "# agents_2 = [Agent(envs_2_regions[0], initial_state_2[agent_id], agent_id) \n",
    "#             for agent_id in range(envs_2_regions[0].num_agents)]\n",
    "# agents_4 = [Agent(envs_4_regions[0], initial_state_4[agent_id], agent_id) \n",
    "#             for agent_id in range(envs_4_regions[0].num_agents)]"
   ]
  },
  {
   "cell_type": "code",
   "execution_count": 2,
   "id": "be27af7c",
   "metadata": {},
   "outputs": [],
   "source": [
    "def create_agent(env, state, id):\n",
    "    return Agent(len(state[id]['features']), env.action_space[id], env.num_regions, id = id)"
   ]
  },
  {
   "cell_type": "code",
   "execution_count": 3,
   "id": "b323d716",
   "metadata": {},
   "outputs": [],
   "source": [
    "envs = [Rice(id = i, region_yamls_filename='2_region_yamls//', num_discrete_action_levels=5) for i in range(5)]\n",
    "initial_state = envs[0].reset()\n",
    "agents = [create_agent(envs[0], initial_state, agent_id) for agent_id in range(envs[0].num_regions)]"
   ]
  },
  {
   "cell_type": "code",
   "execution_count": 4,
   "id": "e9d26b05",
   "metadata": {},
   "outputs": [
    {
     "data": {
      "text/plain": [
       "{'decisions': array([[[1]]]),\n",
       " 'proposals': array([[[0, 1, 0, 0, 0, 0, 0, 0, 1, 1, 1, 1, 1, 0, 1, 1, 0, 0, 0, 1, 0,\n",
       "          1, 1, 1, 1, 0, 1, 1, 0, 0, 0, 1, 1, 1, 0]]]),\n",
       " 'promise': array([[[1, 1, 1, 0, 1, 1, 1, 0, 0, 1, 1, 1, 0, 1, 0, 1, 1, 0, 1, 1, 1,\n",
       "          0, 0, 0, 0, 1, 0, 1, 1, 0, 1, 0, 1, 0, 0]]])}"
      ]
     },
     "execution_count": 4,
     "metadata": {},
     "output_type": "execute_result"
    }
   ],
   "source": [
    "agents[0].eval_negotiate(initial_state[0], deterministic=False)"
   ]
  },
  {
   "cell_type": "code",
   "execution_count": 4,
   "id": "4ca96b9f",
   "metadata": {},
   "outputs": [],
   "source": [
    "def negotiate_proposals(agents, envs, states, step):\n",
    "    \n",
    "    # Act\n",
    "    collective_action = {}\n",
    "    for agent in agents:\n",
    "        collective_action[agent.id] = agent.negotiate(\n",
    "            [state[agent.id] for state in states],\n",
    "            save_map = {\n",
    "                'save_state' : True,\n",
    "                'save_decisions' : False,\n",
    "                'save_proposals_promises' : True\n",
    "            }\n",
    "        )\n",
    "        \n",
    "    # Register actions in the environment and take rewards\n",
    "    all_rewards = []\n",
    "    for env_id in range(len(envs)):\n",
    "        rewards = envs[env_id].register_proposals({\n",
    "            agent_id: {\n",
    "                identifier: action[env_id]\n",
    "                for identifier, action in action_dict.items()\n",
    "            }\n",
    "            for agent_id, action_dict in collective_action.items()\n",
    "        }, step)\n",
    "        \n",
    "        all_rewards.append(rewards)\n",
    "    return np.array(all_rewards)\n",
    "    "
   ]
  },
  {
   "cell_type": "code",
   "execution_count": 5,
   "id": "0c846a96",
   "metadata": {},
   "outputs": [],
   "source": [
    "def negotiate_decisions(agents, envs, states, step):\n",
    "    \n",
    "    # Act\n",
    "    collective_action = {}\n",
    "    for agent in agents:\n",
    "        collective_action[agent.id] = agent.negotiate(\n",
    "            [state[agent.id] for state in states],\n",
    "            save_map = {\n",
    "                'save_state' : False,\n",
    "                'save_decisions' : True,\n",
    "                'save_proposals_promises' : False\n",
    "            }\n",
    "        )\n",
    "        \n",
    "    # Register actions in the environment and take rewards\n",
    "    all_rewards = []\n",
    "    for env_id in range(len(envs)):\n",
    "        rewards = envs[env_id].register_decisions({\n",
    "            agent_id: {\n",
    "                identifier: action[env_id]\n",
    "                for identifier, action in action_dict.items()\n",
    "            }\n",
    "            for agent_id, action_dict in collective_action.items()\n",
    "        }, step)\n",
    "        \n",
    "        all_rewards.append(rewards)\n",
    "    return np.array(all_rewards)"
   ]
  },
  {
   "cell_type": "code",
   "execution_count": 6,
   "id": "368778fe",
   "metadata": {},
   "outputs": [],
   "source": [
    "def act_collectively(agents, envs, states, with_mask = True):\n",
    "    collective_action = {}\n",
    "    for agent in agents:\n",
    "        collective_action[agent.id] = agent.act(\n",
    "            [state[agent.id] for state in states],\n",
    "            with_mask = with_mask\n",
    "        )\n",
    "        \n",
    "    states, rewards, _, _ = zip(*[\n",
    "        env.step({agent_id : collective_action[agent_id][i] \n",
    "                for agent_id in range(len(agents))}) \n",
    "        for (i, env) in enumerate(envs)\n",
    "    ])\n",
    "    return states, rewards"
   ]
  },
  {
   "cell_type": "code",
   "execution_count": 7,
   "id": "840e6e1e",
   "metadata": {
    "scrolled": false
   },
   "outputs": [
    {
     "name": "stderr",
     "output_type": "stream",
     "text": [
      "100%|███████████████████████████████████████████████████████| 100/100 [06:31<00:00,  3.91s/it]\n"
     ]
    }
   ],
   "source": [
    "# rs_difference = {agent.id : [] for agent in agents}\n",
    "rs_negotiation = {agent.id : [] for agent in agents}\n",
    "\n",
    "episode_length = envs[0].episode_length\n",
    "negotiation_steps = envs[0].max_negotiation_steps\n",
    "\n",
    "# The terminal states are the same every time\n",
    "is_terminals = np.zeros(len(envs) * negotiation_steps, dtype = bool)\n",
    "is_terminals[range(negotiation_steps - 1, len(is_terminals), negotiation_steps)]\n",
    "\n",
    "for epoch in tqdm(range(100)):\n",
    "    \n",
    "    for batch in range(5):\n",
    "        states = [env.reset() for env in envs]\n",
    "        for t in range(episode_length):\n",
    "            \n",
    "            for agent in agents:\n",
    "                agent.reset_negotiation_hs()\n",
    "\n",
    "            all_rewards_proposals = [[]] * negotiation_steps\n",
    "            all_rewards_decisions = [[]] * negotiation_steps\n",
    "            \n",
    "            for step in range(negotiation_steps):\n",
    "                all_rewards_proposals[step] = negotiate_proposals(agents, envs, states, step)\n",
    "                all_rewards_decisions[step] = negotiate_decisions(agents, envs, states, step)\n",
    "            \n",
    "            all_rewards_decisions = np.concatenate(all_rewards_decisions)\n",
    "            all_rewards_proposals = np.concatenate(all_rewards_proposals)\n",
    "                \n",
    "            states, rewards = act_collectively(agents, envs, states)\n",
    "            \n",
    "#             for (agent_id, mean_reward) in enumerate(np.mean([list(r.values()) for r in rewards_negotiation], axis = 0)):\n",
    "#                 rs_negotiation[agent_id].append(mean_reward)\n",
    "            \n",
    "            for agent in agents:\n",
    "                agent.nets['negotiationNet'].buffer.rewards_decisions.extend(all_rewards_decisions[:, agent.id])\n",
    "                agent.nets['negotiationNet'].buffer.rewards_proposals.extend(all_rewards_proposals[:, agent.id])\n",
    "                agent.nets['negotiationNet'].buffer.is_terminals.extend(is_terminals)\n",
    "                agent.nets['activityNet'].buffer.rewards.extend([reward[agent.id] for reward in rewards])\n",
    "                agent.nets['activityNet'].buffer.is_terminals.extend([t == episode_length - 1] * len(envs))\n",
    "            \n",
    "    for agent in agents:\n",
    "        agent.update()"
   ]
  },
  {
   "cell_type": "code",
   "execution_count": 18,
   "id": "6d5ba1b8",
   "metadata": {},
   "outputs": [
    {
     "data": {
      "text/plain": [
       "(100, 10)"
      ]
     },
     "execution_count": 18,
     "metadata": {},
     "output_type": "execute_result"
    }
   ],
   "source": [
    "a = np.array(agents[0].nets['negotiationNet'].loss_collection)\n",
    "a = a.reshape(100, -1)\n",
    "a.shape"
   ]
  },
  {
   "cell_type": "code",
   "execution_count": 21,
   "id": "51487b73",
   "metadata": {},
   "outputs": [
    {
     "data": {
      "text/plain": [
       "[<matplotlib.lines.Line2D at 0x7ff12ee8a5f0>]"
      ]
     },
     "execution_count": 21,
     "metadata": {},
     "output_type": "execute_result"
    },
    {
     "data": {
      "image/png": "[encoded data removed]",
      "text/plain": [
       "<Figure size 640x480 with 1 Axes>"
      ]
     },
     "metadata": {},
     "output_type": "display_data"
    }
   ],
   "source": [
    "plt.plot(np.array(agents[0].nets['activityNet'].loss_collection).reshape(100, -1).mean(axis = 1))"
   ]
  },
  {
   "cell_type": "code",
   "execution_count": 25,
   "id": "4e165640",
   "metadata": {},
   "outputs": [
    {
     "ename": "AttributeError",
     "evalue": "'NegotiationNet' object has no attribute '_get_probs'",
     "output_type": "error",
     "traceback": [
      "\u001b[0;31m---------------------------------------------------------------------------\u001b[0m",
      "\u001b[0;31mAttributeError\u001b[0m                            Traceback (most recent call last)",
      "Cell \u001b[0;32mIn[25], line 1\u001b[0m\n\u001b[0;32m----> 1\u001b[0m \u001b[43magents\u001b[49m\u001b[43m[\u001b[49m\u001b[38;5;241;43m0\u001b[39;49m\u001b[43m]\u001b[49m\u001b[38;5;241;43m.\u001b[39;49m\u001b[43meval_negotiate\u001b[49m\u001b[43m(\u001b[49m\u001b[43menvs\u001b[49m\u001b[43m[\u001b[49m\u001b[38;5;241;43m0\u001b[39;49m\u001b[43m]\u001b[49m\u001b[38;5;241;43m.\u001b[39;49m\u001b[43mreset\u001b[49m\u001b[43m(\u001b[49m\u001b[43m)\u001b[49m\u001b[43m[\u001b[49m\u001b[38;5;241;43m0\u001b[39;49m\u001b[43m]\u001b[49m\u001b[43m)\u001b[49m\n",
      "File \u001b[0;32m~/ThesisThings/climate-cooperation-competition/ppo_negotiation_rec/Agent.py:87\u001b[0m, in \u001b[0;36mAgent.eval_negotiate\u001b[0;34m(self, state, deterministic)\u001b[0m\n\u001b[1;32m     84\u001b[0m promises \u001b[38;5;241m=\u001b[39m torch\u001b[38;5;241m.\u001b[39mFloatTensor(np\u001b[38;5;241m.\u001b[39marray(\u001b[38;5;28mlist\u001b[39m(state[\u001b[38;5;124m'\u001b[39m\u001b[38;5;124mpromises\u001b[39m\u001b[38;5;124m'\u001b[39m]\u001b[38;5;241m.\u001b[39mvalues()))\u001b[38;5;241m.\u001b[39mflatten())\u001b[38;5;241m.\u001b[39munsqueeze(\u001b[38;5;241m0\u001b[39m)\u001b[38;5;241m.\u001b[39mto(\u001b[38;5;28mself\u001b[39m\u001b[38;5;241m.\u001b[39mdevice)\n\u001b[1;32m     85\u001b[0m proposals \u001b[38;5;241m=\u001b[39m torch\u001b[38;5;241m.\u001b[39mFloatTensor(np\u001b[38;5;241m.\u001b[39marray(\u001b[38;5;28mlist\u001b[39m(state[\u001b[38;5;124m'\u001b[39m\u001b[38;5;124mproposals\u001b[39m\u001b[38;5;124m'\u001b[39m]\u001b[38;5;241m.\u001b[39mvalues()))\u001b[38;5;241m.\u001b[39mflatten())\u001b[38;5;241m.\u001b[39munsqueeze(\u001b[38;5;241m0\u001b[39m)\u001b[38;5;241m.\u001b[39mto(\u001b[38;5;28mself\u001b[39m\u001b[38;5;241m.\u001b[39mdevice)\n\u001b[0;32m---> 87\u001b[0m actions \u001b[38;5;241m=\u001b[39m \u001b[38;5;28;43mself\u001b[39;49m\u001b[38;5;241;43m.\u001b[39;49m\u001b[43mnets\u001b[49m\u001b[43m[\u001b[49m\u001b[38;5;124;43m'\u001b[39;49m\u001b[38;5;124;43mnegotiationNet\u001b[39;49m\u001b[38;5;124;43m'\u001b[39;49m\u001b[43m]\u001b[49m\u001b[38;5;241;43m.\u001b[39;49m\u001b[43mpolicy\u001b[49m\u001b[38;5;241;43m.\u001b[39;49m\u001b[43mact_deterministically\u001b[49m\u001b[43m(\u001b[49m\n\u001b[1;32m     88\u001b[0m \u001b[43m    \u001b[49m\u001b[43menv_state\u001b[49m\u001b[43m \u001b[49m\u001b[38;5;241;43m=\u001b[39;49m\u001b[43m \u001b[49m\u001b[43mfeatures\u001b[49m\u001b[43m,\u001b[49m\n\u001b[1;32m     89\u001b[0m \u001b[43m    \u001b[49m\u001b[43mpromises\u001b[49m\u001b[43m \u001b[49m\u001b[38;5;241;43m=\u001b[39;49m\u001b[43m \u001b[49m\u001b[43mpromises\u001b[49m\u001b[43m,\u001b[49m\n\u001b[1;32m     90\u001b[0m \u001b[43m    \u001b[49m\u001b[43mproposals\u001b[49m\u001b[43m \u001b[49m\u001b[38;5;241;43m=\u001b[39;49m\u001b[43m \u001b[49m\u001b[43mproposals\u001b[49m\n\u001b[1;32m     91\u001b[0m \u001b[43m\u001b[49m\u001b[43m)\u001b[49m \u001b[38;5;28;01mif\u001b[39;00m deterministic \u001b[38;5;28;01melse\u001b[39;00m \u001b[38;5;28mself\u001b[39m\u001b[38;5;241m.\u001b[39mnets[\u001b[38;5;124m'\u001b[39m\u001b[38;5;124mnegotiationNet\u001b[39m\u001b[38;5;124m'\u001b[39m]\u001b[38;5;241m.\u001b[39mpolicy\u001b[38;5;241m.\u001b[39mact_stochastically(\n\u001b[1;32m     92\u001b[0m     env_state \u001b[38;5;241m=\u001b[39m features,\n\u001b[1;32m     93\u001b[0m     promises \u001b[38;5;241m=\u001b[39m promises,\n\u001b[1;32m     94\u001b[0m     proposals \u001b[38;5;241m=\u001b[39m proposals\n\u001b[1;32m     95\u001b[0m )\n\u001b[1;32m     97\u001b[0m \u001b[38;5;28;01mreturn\u001b[39;00m actions\n",
      "File \u001b[0;32m~/ThesisThings/climate-cooperation-competition/ppo_negotiation_rec/negotiation/NegotiationNet.py:125\u001b[0m, in \u001b[0;36mNegotiationNet.act_deterministically\u001b[0;34m(self, env_state, **kwargs)\u001b[0m\n\u001b[1;32m    121\u001b[0m promises_state \u001b[38;5;241m=\u001b[39m kwargs[\u001b[38;5;124m'\u001b[39m\u001b[38;5;124mpromises\u001b[39m\u001b[38;5;124m'\u001b[39m]\n\u001b[1;32m    123\u001b[0m negotiation_state \u001b[38;5;241m=\u001b[39m torch\u001b[38;5;241m.\u001b[39mcat((env_state, proposals_state, promises_state), dim \u001b[38;5;241m=\u001b[39m \u001b[38;5;241m1\u001b[39m)\u001b[38;5;241m.\u001b[39mto(env_state\u001b[38;5;241m.\u001b[39mdevice)\n\u001b[0;32m--> 125\u001b[0m decision_probs, proposal_probs, promise_probs \u001b[38;5;241m=\u001b[39m \u001b[38;5;28;43mself\u001b[39;49m\u001b[38;5;241;43m.\u001b[39;49m\u001b[43m_get_probs\u001b[49m(negotiation_state)\n\u001b[1;32m    127\u001b[0m decisions \u001b[38;5;241m=\u001b[39m ((decision_probs \u001b[38;5;241m>\u001b[39m \u001b[38;5;241m.5\u001b[39m) \u001b[38;5;241m*\u001b[39m \u001b[38;5;241m1\u001b[39m) \u001b[38;5;241m.\u001b[39mdetach()\u001b[38;5;241m.\u001b[39mcpu()\u001b[38;5;241m.\u001b[39mnumpy()\n\u001b[1;32m    128\u001b[0m proposals \u001b[38;5;241m=\u001b[39m ((proposal_probs \u001b[38;5;241m>\u001b[39m \u001b[38;5;241m.5\u001b[39m) \u001b[38;5;241m*\u001b[39m \u001b[38;5;241m1\u001b[39m) \u001b[38;5;241m.\u001b[39mdetach()\u001b[38;5;241m.\u001b[39mcpu()\u001b[38;5;241m.\u001b[39mnumpy()\n",
      "File \u001b[0;32m~/.local/lib/python3.10/site-packages/torch/nn/modules/module.py:1614\u001b[0m, in \u001b[0;36mModule.__getattr__\u001b[0;34m(self, name)\u001b[0m\n\u001b[1;32m   1612\u001b[0m     \u001b[38;5;28;01mif\u001b[39;00m name \u001b[38;5;129;01min\u001b[39;00m modules:\n\u001b[1;32m   1613\u001b[0m         \u001b[38;5;28;01mreturn\u001b[39;00m modules[name]\n\u001b[0;32m-> 1614\u001b[0m \u001b[38;5;28;01mraise\u001b[39;00m \u001b[38;5;167;01mAttributeError\u001b[39;00m(\u001b[38;5;124m\"\u001b[39m\u001b[38;5;124m'\u001b[39m\u001b[38;5;132;01m{}\u001b[39;00m\u001b[38;5;124m'\u001b[39m\u001b[38;5;124m object has no attribute \u001b[39m\u001b[38;5;124m'\u001b[39m\u001b[38;5;132;01m{}\u001b[39;00m\u001b[38;5;124m'\u001b[39m\u001b[38;5;124m\"\u001b[39m\u001b[38;5;241m.\u001b[39mformat(\n\u001b[1;32m   1615\u001b[0m     \u001b[38;5;28mtype\u001b[39m(\u001b[38;5;28mself\u001b[39m)\u001b[38;5;241m.\u001b[39m\u001b[38;5;18m__name__\u001b[39m, name))\n",
      "\u001b[0;31mAttributeError\u001b[0m: 'NegotiationNet' object has no attribute '_get_probs'"
     ]
    }
   ],
   "source": [
    "agents[0].eval_negotiate(envs[0].reset()[0])"
   ]
  },
  {
   "cell_type": "code",
   "execution_count": null,
   "id": "f986d849",
   "metadata": {},
   "outputs": [],
   "source": []
  }
 ],
 "metadata": {
  "kernelspec": {
   "display_name": "Python 3 (ipykernel)",
   "language": "python",
   "name": "python3"
  },
  "language_info": {
   "codemirror_mode": {
    "name": "ipython",
    "version": 3
   },
   "file_extension": ".py",
   "mimetype": "text/x-python",
   "name": "python",
   "nbconvert_exporter": "python",
   "pygments_lexer": "ipython3",
   "version": "3.10.6"
  }
 },
 "nbformat": 4,
 "nbformat_minor": 5
}
