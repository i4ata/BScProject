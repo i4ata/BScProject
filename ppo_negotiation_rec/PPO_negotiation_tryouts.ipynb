{
 "cells": [
  {
   "cell_type": "code",
   "execution_count": 1,
   "id": "03fe22d6",
   "metadata": {},
   "outputs": [
    {
     "name": "stdout",
     "output_type": "stream",
     "text": [
      "Python 3.7.16\r\n"
     ]
    }
   ],
   "source": [
    "!python --version"
   ]
  },
  {
   "cell_type": "code",
   "execution_count": 1,
   "id": "019a4f08",
   "metadata": {},
   "outputs": [],
   "source": [
    "from Agent import Agent\n",
    "#from NegotiationNet import NegotiationNet\n",
    "\n",
    "import torch\n",
    "\n",
    "import numpy as np\n",
    "import pandas as pd\n",
    "\n",
    "import os\n",
    "os.chdir(\"..\")\n",
    "from rice_nego import Rice\n",
    "\n",
    "import matplotlib.pyplot as plt\n",
    "from tqdm import tqdm"
   ]
  },
  {
   "cell_type": "code",
   "execution_count": 2,
   "id": "01ca6def",
   "metadata": {},
   "outputs": [],
   "source": [
    "# envs_2_regions = [Rice(region_yamls_filename='2_region_yamls/') for _ in range(5)]\n",
    "# initial_state_2 = envs_2_regions[0].reset()\n",
    "\n",
    "# envs_4_regions = [Rice(region_yamls_filename='identical_region_yamls/') for _ in range(5)]\n",
    "# initial_state_4 = envs_4_regions[0].reset()"
   ]
  },
  {
   "cell_type": "code",
   "execution_count": 3,
   "id": "e2984175",
   "metadata": {},
   "outputs": [],
   "source": [
    "# agents_2 = [Agent(envs_2_regions[0], initial_state_2[agent_id], agent_id) \n",
    "#             for agent_id in range(envs_2_regions[0].num_agents)]\n",
    "# agents_4 = [Agent(envs_4_regions[0], initial_state_4[agent_id], agent_id) \n",
    "#             for agent_id in range(envs_4_regions[0].num_agents)]"
   ]
  },
  {
   "cell_type": "code",
   "execution_count": 2,
   "id": "be27af7c",
   "metadata": {},
   "outputs": [],
   "source": [
    "def create_agent(env, state, id):\n",
    "    return Agent(len(state[id]['features']), env.action_space[id], env.num_regions, env.message_length, id = id)"
   ]
  },
  {
   "cell_type": "code",
   "execution_count": 3,
   "id": "b323d716",
   "metadata": {},
   "outputs": [],
   "source": [
    "envs = [Rice(id = i, region_yamls_filename='2_region_yamls//', num_discrete_action_levels=5) for i in range(5)]\n",
    "initial_state = envs[0].reset()\n",
    "agents = [create_agent(envs[0], initial_state, agent_id) for agent_id in range(envs[0].num_regions)]"
   ]
  },
  {
   "cell_type": "code",
   "execution_count": 4,
   "id": "4ca96b9f",
   "metadata": {},
   "outputs": [],
   "source": [
    "def negotiate_proposals(agents, envs, states, step):\n",
    "    \n",
    "    # Act\n",
    "    collective_action = {}\n",
    "    for agent in agents:\n",
    "        collective_action[agent.id] = agent.negotiate(\n",
    "            [state[agent.id] for state in states],\n",
    "            save_map = {\n",
    "                'save_state' : True,\n",
    "                'save_decisions' : False,\n",
    "                'save_proposals_promises' : True\n",
    "            }\n",
    "        )\n",
    "        \n",
    "    # Register actions in the environment and take rewards\n",
    "    all_rewards, new_states = [], []\n",
    "    for env_id in range(len(envs)):\n",
    "        state, rewards = envs[env_id].register_proposals({\n",
    "            agent_id: {\n",
    "                identifier: action[env_id]\n",
    "                for identifier, action in action_dict.items()\n",
    "            }\n",
    "            for agent_id, action_dict in collective_action.items()\n",
    "        }, step)\n",
    "        \n",
    "        all_rewards.append(rewards)\n",
    "        new_states.append(state)\n",
    "        \n",
    "    return new_states, np.array(all_rewards)\n",
    "    "
   ]
  },
  {
   "cell_type": "code",
   "execution_count": 5,
   "id": "0c846a96",
   "metadata": {},
   "outputs": [],
   "source": [
    "def negotiate_decisions(agents, envs, states, step):\n",
    "    \n",
    "    # Act\n",
    "    collective_action = {}\n",
    "    for agent in agents:\n",
    "        collective_action[agent.id] = agent.negotiate(\n",
    "            [state[agent.id] for state in states],\n",
    "            save_map = {\n",
    "                'save_state' : False,\n",
    "                'save_decisions' : True,\n",
    "                'save_proposals_promises' : False\n",
    "            }\n",
    "        )\n",
    "        \n",
    "    # Register actions in the environment and take rewards\n",
    "    all_rewards, new_states = [], []\n",
    "    for env_id in range(len(envs)):\n",
    "        state, rewards = envs[env_id].register_decisions({\n",
    "            agent_id: {\n",
    "                identifier: action[env_id]\n",
    "                for identifier, action in action_dict.items()\n",
    "            }\n",
    "            for agent_id, action_dict in collective_action.items()\n",
    "        }, step)\n",
    "        \n",
    "        all_rewards.append(rewards)\n",
    "        new_states.append(state)\n",
    "        \n",
    "    return new_states, np.array(all_rewards)"
   ]
  },
  {
   "cell_type": "code",
   "execution_count": 6,
   "id": "368778fe",
   "metadata": {},
   "outputs": [],
   "source": [
    "def act_collectively(agents, envs, states, with_mask = True):\n",
    "    collective_action = {}\n",
    "    for agent in agents:\n",
    "        collective_action[agent.id] = agent.act(\n",
    "            [state[agent.id] for state in states],\n",
    "            with_mask = with_mask\n",
    "        )\n",
    "        \n",
    "    states, rewards, _, _ = zip(*[\n",
    "        env.step({agent_id : collective_action[agent_id][i] \n",
    "                for agent_id in range(len(agents))}) \n",
    "        for (i, env) in enumerate(envs)\n",
    "    ])\n",
    "    return states, rewards"
   ]
  },
  {
   "cell_type": "code",
   "execution_count": 7,
   "id": "840e6e1e",
   "metadata": {
    "scrolled": false
   },
   "outputs": [
    {
     "name": "stderr",
     "output_type": "stream",
     "text": [
      "100%|███████████████████████████████████████████| 20/20 [03:37<00:00, 10.89s/it]\n"
     ]
    }
   ],
   "source": [
    "# rs_difference = {agent.id : [] for agent in agents}\n",
    "rs_negotiation = {agent.id : [] for agent in agents}\n",
    "\n",
    "episode_length = envs[0].episode_length\n",
    "negotiation_steps = envs[0].max_negotiation_steps\n",
    "\n",
    "# The terminal states are the same every time\n",
    "is_terminals = np.zeros(len(envs) * negotiation_steps, dtype = bool)\n",
    "is_terminals[range(negotiation_steps - 1, len(is_terminals), negotiation_steps)]\n",
    "\n",
    "for epoch in tqdm(range(20)):\n",
    "    \n",
    "    for batch in range(10):\n",
    "        states = [env.reset() for env in envs]\n",
    "        for t in range(episode_length):\n",
    "            \n",
    "            for agent in agents:\n",
    "                agent.reset_negotiation_hs()\n",
    "\n",
    "            all_rewards_proposals = [[]] * negotiation_steps\n",
    "            all_rewards_decisions = [[]] * negotiation_steps\n",
    "            \n",
    "            for step in range(negotiation_steps):\n",
    "                states, all_rewards_proposals[step] = negotiate_proposals(agents, envs, states, step)\n",
    "                states, all_rewards_decisions[step] = negotiate_decisions(agents, envs, states, step)\n",
    "            \n",
    "            states, rewards = act_collectively(agents, envs, states)\n",
    "            all_rewards_actions = np.array([list(reward.values()) for reward in rewards])\n",
    "            \n",
    "            all_rewards_actions_repeated = np.repeat(all_rewards_actions, negotiation_steps, axis = 0)\n",
    "            all_rewards_decisions = np.concatenate(all_rewards_decisions) * all_rewards_actions_repeated\n",
    "            all_rewards_proposals = np.concatenate(all_rewards_proposals) * all_rewards_actions_repeated\n",
    "            \n",
    "            \n",
    "            for agent in agents:\n",
    "                agent.nets['negotiationNet'].buffer.rewards_decisions.extend(all_rewards_decisions[:, agent.id])\n",
    "                agent.nets['negotiationNet'].buffer.rewards_proposals.extend(all_rewards_proposals[:, agent.id])\n",
    "                agent.nets['negotiationNet'].buffer.is_terminals.extend(is_terminals)\n",
    "                agent.nets['activityNet'].buffer.rewards.extend(all_rewards_actions[:, agent.id])\n",
    "                agent.nets['activityNet'].buffer.is_terminals.extend([t == episode_length - 1] * len(envs))\n",
    "    for agent in agents:\n",
    "        agent.update()"
   ]
  },
  {
   "cell_type": "code",
   "execution_count": 10,
   "id": "3129a3ab",
   "metadata": {},
   "outputs": [
    {
     "data": {
      "text/plain": [
       "[<matplotlib.lines.Line2D at 0x7f91e370e590>]"
      ]
     },
     "execution_count": 10,
     "metadata": {},
     "output_type": "execute_result"
    },
    {
     "data": {
      "image/png": "[encoded data removed]",
      "text/plain": [
       "<Figure size 640x480 with 1 Axes>"
      ]
     },
     "metadata": {},
     "output_type": "display_data"
    }
   ],
   "source": [
    "plt.plot(agents[1].nets['negotiationNet'].loss_collection)"
   ]
  },
  {
   "cell_type": "code",
   "execution_count": 16,
   "id": "7b74af70",
   "metadata": {},
   "outputs": [
    {
     "data": {
      "text/plain": [
       "{0: {1: array(0)}, 1: {0: array(0)}}"
      ]
     },
     "execution_count": 16,
     "metadata": {},
     "output_type": "execute_result"
    }
   ],
   "source": [
    "envs[0].decisions"
   ]
  },
  {
   "cell_type": "code",
   "execution_count": null,
   "id": "289c0ceb",
   "metadata": {},
   "outputs": [],
   "source": []
  }
 ],
 "metadata": {
  "kernelspec": {
   "display_name": "Python 3 (ipykernel)",
   "language": "python",
   "name": "python3"
  },
  "language_info": {
   "codemirror_mode": {
    "name": "ipython",
    "version": 3
   },
   "file_extension": ".py",
   "mimetype": "text/x-python",
   "name": "python",
   "nbconvert_exporter": "python",
   "pygments_lexer": "ipython3",
   "version": "3.10.6"
  }
 },
 "nbformat": 4,
 "nbformat_minor": 5
}
