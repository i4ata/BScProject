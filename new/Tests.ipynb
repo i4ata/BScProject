{
 "cells": [
  {
   "cell_type": "code",
   "execution_count": 1,
   "id": "53d24ed0",
   "metadata": {},
   "outputs": [
    {
     "name": "stdout",
     "output_type": "stream",
     "text": [
      "Python 3.7.16\r\n"
     ]
    }
   ],
   "source": [
    "!python --version # should say 3.7.16"
   ]
  },
  {
   "cell_type": "code",
   "execution_count": 2,
   "id": "9f80da0d",
   "metadata": {},
   "outputs": [
    {
     "name": "stderr",
     "output_type": "stream",
     "text": [
      "/home/ivaylo/.local/lib/python3.7/site-packages/tqdm/auto.py:21: TqdmWarning: IProgress not found. Please update jupyter and ipywidgets. See https://ipywidgets.readthedocs.io/en/stable/user_install.html\n",
      "  from .autonotebook import tqdm as notebook_tqdm\n"
     ]
    }
   ],
   "source": [
    "import os\n",
    "from agent import Agent, recursive_obs_dict_to_spaces_dict\n",
    "from action_net import ActionNet\n",
    "os.chdir(\"..\")\n",
    "from rice import Rice\n",
    "\n",
    "import torch\n",
    "from collections import deque\n",
    "import numpy as np\n",
    "\n",
    "from tqdm import tqdm\n",
    "\n",
    "from typing import List"
   ]
  },
  {
   "cell_type": "code",
   "execution_count": 3,
   "id": "e6eb0683",
   "metadata": {},
   "outputs": [],
   "source": [
    "env = Rice(negotiation_on = False)"
   ]
  },
  {
   "cell_type": "code",
   "execution_count": 4,
   "id": "408eec8d",
   "metadata": {},
   "outputs": [],
   "source": [
    "initial_state = env.reset()"
   ]
  },
  {
   "cell_type": "code",
   "execution_count": 5,
   "id": "1647129b",
   "metadata": {},
   "outputs": [
    {
     "data": {
      "text/plain": [
       "77"
      ]
     },
     "execution_count": 5,
     "metadata": {},
     "output_type": "execute_result"
    }
   ],
   "source": [
    "def get_features_n() -> int:\n",
    "    \"\"\"\n",
    "    Take the number features from the observation that are relevant for the actions. (and not for the negotiation)\n",
    "    \"\"\"\n",
    "    return sum(np.prod(env.global_state[feature]['value'].shape[1:]) \n",
    "               for feature in \n",
    "               env.global_features + env.public_features) + env.num_regions + len(env.private_features)\n",
    "\n",
    "features_n = get_features_n()\n",
    "features_n"
   ]
  },
  {
   "cell_type": "code",
   "execution_count": 6,
   "id": "7be66728",
   "metadata": {},
   "outputs": [
    {
     "data": {
      "text/plain": [
       "11"
      ]
     },
     "execution_count": 6,
     "metadata": {},
     "output_type": "execute_result"
    }
   ],
   "source": [
    "def get_action_spaces_n() -> int:\n",
    "    \"\"\"\n",
    "    Take the number of action spaces that are relevant for the actions. (and not for the negotiation)\n",
    "    \"\"\"\n",
    "    return len(env.savings_action_nvec + env.mitigation_rate_action_nvec + \n",
    "              env.export_action_nvec + env.import_actions_nvec + env.tariff_actions_nvec)\n",
    "\n",
    "action_spaces_n = get_action_spaces_n()\n",
    "action_spaces_n"
   ]
  },
  {
   "cell_type": "code",
   "execution_count": 7,
   "id": "7537e2d6",
   "metadata": {},
   "outputs": [
    {
     "data": {
      "text/plain": [
       "110"
      ]
     },
     "execution_count": 7,
     "metadata": {},
     "output_type": "execute_result"
    }
   ],
   "source": [
    "def get_actions_n(agent_id : int) -> int:\n",
    "    \"\"\"\n",
    "    Take the total number of actions in the relevant action spaces.\n",
    "    \"\"\"\n",
    "    return sum(space.n for space in env.action_space[agent_id][:action_spaces_n])\n",
    "\n",
    "actions_n = get_actions_n(agent_id = 0)\n",
    "actions_n"
   ]
  },
  {
   "cell_type": "code",
   "execution_count": 8,
   "id": "602dd583",
   "metadata": {},
   "outputs": [],
   "source": [
    "def trim_observation(state : dict, agent_id : int):\n",
    "    \"\"\"\n",
    "    Slice the observation such that it includes features only relevant for taking actions\n",
    "    \"\"\"\n",
    "    observation = state[agent_id].copy()\n",
    "    observation['features'] = observation['features'][:features_n]\n",
    "    observation['action_mask'] = observation['action_mask'][:actions_n]\n",
    "    return observation\n",
    "\n",
    "def get_observation_space(agent_id : int):\n",
    "    \"\"\"\n",
    "    Get the observation space that is relevant for taking actions\n",
    "    \"\"\"\n",
    "    observation = trim_observation(initial_state, agent_id)\n",
    "    return recursive_obs_dict_to_spaces_dict(observation)\n",
    "\n",
    "def get_action_space(agent_id : int):\n",
    "    \"\"\"\n",
    "    Get the action space that is relevant for takin actions\n",
    "    \"\"\"\n",
    "    return env.action_space[agent_id][:action_spaces_n]\n",
    "    "
   ]
  },
  {
   "cell_type": "code",
   "execution_count": 9,
   "id": "1295e14d",
   "metadata": {},
   "outputs": [],
   "source": [
    "def create_agents() -> List[Agent]:\n",
    "    agents = []\n",
    "    for agent_id in initial_state:\n",
    "        agents.append(\n",
    "            Agent(\n",
    "                observation_space = get_observation_space(agent_id),\n",
    "                action_space = get_action_space(agent_id),\n",
    "                id = agent_id\n",
    "            )\n",
    "        )\n",
    "    return agents"
   ]
  },
  {
   "cell_type": "code",
   "execution_count": 10,
   "id": "087fe5d1",
   "metadata": {},
   "outputs": [],
   "source": [
    "agents = create_agents()"
   ]
  },
  {
   "cell_type": "code",
   "execution_count": 11,
   "id": "b1b00917",
   "metadata": {},
   "outputs": [],
   "source": [
    "collective_action = {}\n",
    "for agent in agents:\n",
    "    action, log_prob = agent.act(0, trim_observation(initial_state, agent.id))\n",
    "    #saved_log_probs[agent.id].append(log_prob)\n",
    "    collective_action[agent.id] = np.array(action)\n",
    "\n",
    "state, reward, done, _ = env.step(collective_action)"
   ]
  },
  {
   "cell_type": "code",
   "execution_count": 12,
   "id": "4cf23be9",
   "metadata": {},
   "outputs": [
    {
     "data": {
      "text/plain": [
       "{0: array([5, 3, 8, 6, 7, 0, 6, 4, 5, 6, 2]),\n",
       " 1: array([8, 8, 2, 0, 3, 5, 8, 4, 4, 7, 0]),\n",
       " 2: array([6, 2, 0, 0, 4, 0, 5, 7, 2, 3, 2]),\n",
       " 3: array([8, 8, 6, 7, 4, 2, 5, 0, 3, 2, 4])}"
      ]
     },
     "execution_count": 12,
     "metadata": {},
     "output_type": "execute_result"
    }
   ],
   "source": [
    "collective_action"
   ]
  },
  {
   "cell_type": "code",
   "execution_count": 13,
   "id": "92ff45a7",
   "metadata": {},
   "outputs": [],
   "source": [
    "# Adapted from https://huggingface.co/deep-rl-course/unit4/hands-on?fw=pt\n",
    "def reinforce(agents : List[Agent], \n",
    "              n_training_episodes : int, \n",
    "              gamma : float) -> None:\n",
    "    \n",
    "    optimizers = {agent.id : torch.optim.Adam(agent.nets[0].parameters(), lr=.0005) for agent in agents}\n",
    "    \n",
    "    scores_deque = deque(maxlen=100)\n",
    "    scores = []\n",
    "    \n",
    "    for i_episode in tqdm(range(1, n_training_episodes+1)):\n",
    "        saved_log_probs = {agent.id : [] for agent in agents}\n",
    "        rewards = {agent.id : [] for agent in agents}\n",
    "        state = env.reset()\n",
    "        \n",
    "        # Generate a whole episode\n",
    "        for t in range(env.episode_length):\n",
    "            \n",
    "            collective_action = {}\n",
    "            \n",
    "            for agent in agents:\n",
    "                action, log_prob = agent.act(0, trim_observation(state, agent.id))\n",
    "                saved_log_probs[agent.id].append(log_prob)\n",
    "                collective_action[agent.id] = np.array(action)\n",
    "                \n",
    "            state, reward, done, _ = env.step(collective_action)\n",
    "            \n",
    "            for agent in agents:\n",
    "                rewards[agent.id].append(reward[agent.id])\n",
    "        \n",
    "        returns = {agent.id : deque(maxlen=env.episode_length) for agent in agents} \n",
    "        \n",
    "        # Calculate discounted returns\n",
    "        for t in range(env.episode_length)[::-1]:\n",
    "            for agent in agents:\n",
    "                disc_return_t = (returns[agent.id][0] if len(returns[agent.id])>0 else 0)\n",
    "                returns[agent.id].appendleft( gamma*disc_return_t + rewards[agent.id][t]   )    \n",
    "            \n",
    "        eps = np.finfo(np.float32).eps.item()\n",
    "        \n",
    "        # Standardize returns\n",
    "        returns = {agent.id : torch.tensor(returns[agent.id]) for agent in agents}\n",
    "        for agent in agents:\n",
    "            returns[agent.id] = (returns[agent.id] - returns[agent.id].mean()) / (returns[agent.id].std() + eps)\n",
    "        \n",
    "        # Calculate loss and update weights\n",
    "        policy_loss = {agent.id : [] for agent in agents}\n",
    "        for agent in agents:\n",
    "            for log_prob, disc_return in zip(saved_log_probs[agent.id], returns[agent.id]):\n",
    "                policy_loss[agent.id].append(-log_prob * disc_return)\n",
    "            loss = torch.cat(policy_loss[agent.id]).sum()\n",
    "            \n",
    "            optimizers[agent.id].zero_grad()\n",
    "            loss.backward()\n",
    "            optimizers[agent.id].step()"
   ]
  },
  {
   "cell_type": "code",
   "execution_count": 14,
   "id": "7e8fce2a",
   "metadata": {},
   "outputs": [
    {
     "name": "stderr",
     "output_type": "stream",
     "text": [
      "100%|█████████████████████████████████████████| 100/100 [00:29<00:00,  3.43it/s]\n"
     ]
    }
   ],
   "source": [
    "reinforce(agents, n_training_episodes = 100, gamma = 1.)"
   ]
  },
  {
   "cell_type": "code",
   "execution_count": 25,
   "id": "c70e360c",
   "metadata": {},
   "outputs": [],
   "source": [
    "def evaluate_agents(agents : List[Agent]) -> dict:\n",
    "    state = env.reset()\n",
    "    for i in range(env.episode_length):\n",
    "        collective_action = {}\n",
    "    \n",
    "        for agent in agents:\n",
    "            action, _ = agent.act(0, state[agent.id])\n",
    "            collective_action[agent.id] = np.array(action)\n",
    "        state, reward, done, _ = env.step(collective_action)\n",
    "    return env.global_state"
   ]
  },
  {
   "cell_type": "code",
   "execution_count": 16,
   "id": "d7d13b67",
   "metadata": {},
   "outputs": [],
   "source": [
    "def baseline() -> dict:\n",
    "    return evaluate_agents(create_agents())"
   ]
  }
 ],
 "metadata": {
  "kernelspec": {
   "display_name": "venv",
   "language": "python",
   "name": "venv"
  },
  "language_info": {
   "codemirror_mode": {
    "name": "ipython",
    "version": 3
   },
   "file_extension": ".py",
   "mimetype": "text/x-python",
   "name": "python",
   "nbconvert_exporter": "python",
   "pygments_lexer": "ipython3",
   "version": "3.7.16"
  }
 },
 "nbformat": 4,
 "nbformat_minor": 5
}
