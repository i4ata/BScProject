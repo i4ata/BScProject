{
 "cells": [
  {
   "cell_type": "code",
   "execution_count": null,
   "id": "53d24ed0",
   "metadata": {},
   "outputs": [
    {
     "name": "stdout",
     "output_type": "stream",
     "text": [
      "Python 3.7.16\r\n"
     ]
    }
   ],
   "source": [
    "!python --version # should say 3.7.16"
   ]
  },
  {
   "cell_type": "code",
   "execution_count": 2,
   "id": "9f80da0d",
   "metadata": {},
   "outputs": [
    {
     "name": "stderr",
     "output_type": "stream",
     "text": [
      "/home/ivaylo/.local/lib/python3.7/site-packages/tqdm/auto.py:21: TqdmWarning: IProgress not found. Please update jupyter and ipywidgets. See https://ipywidgets.readthedocs.io/en/stable/user_install.html\n",
      "  from .autonotebook import tqdm as notebook_tqdm\n"
     ]
    }
   ],
   "source": [
    "import os\n",
    "from agent import Agent, recursive_obs_dict_to_spaces_dict\n",
    "from action_net import ActionNet\n",
    "os.chdir(\"..\")\n",
    "from rice import Rice\n",
    "\n",
    "import torch\n",
    "from collections import deque\n",
    "import numpy as np\n",
    "\n",
    "from tqdm import tqdm\n",
    "\n",
    "from typing import List"
   ]
  },
  {
   "cell_type": "code",
   "execution_count": 3,
   "id": "e6eb0683",
   "metadata": {},
   "outputs": [],
   "source": [
    "env = Rice()"
   ]
  },
  {
   "cell_type": "code",
   "execution_count": 4,
   "id": "bb6b229f",
   "metadata": {},
   "outputs": [
    {
     "data": {
      "text/plain": [
       "4"
      ]
     },
     "execution_count": 4,
     "metadata": {},
     "output_type": "execute_result"
    }
   ],
   "source": [
    "env.num_agents # environment reduced to only 4 agents"
   ]
  },
  {
   "cell_type": "code",
   "execution_count": 5,
   "id": "69fec8b2",
   "metadata": {},
   "outputs": [
    {
     "data": {
      "text/plain": [
       "{0: MultiDiscrete([10 10 10 10 10 10 10 10 10 10 10]),\n",
       " 1: MultiDiscrete([10 10 10 10 10 10 10 10 10 10 10]),\n",
       " 2: MultiDiscrete([10 10 10 10 10 10 10 10 10 10 10]),\n",
       " 3: MultiDiscrete([10 10 10 10 10 10 10 10 10 10 10])}"
      ]
     },
     "execution_count": 5,
     "metadata": {},
     "output_type": "execute_result"
    }
   ],
   "source": [
    "env.action_space"
   ]
  },
  {
   "cell_type": "code",
   "execution_count": 6,
   "id": "854275b9",
   "metadata": {},
   "outputs": [
    {
     "data": {
      "text/plain": [
       "20"
      ]
     },
     "execution_count": 6,
     "metadata": {},
     "output_type": "execute_result"
    }
   ],
   "source": [
    "env.episode_length"
   ]
  },
  {
   "cell_type": "code",
   "execution_count": 7,
   "id": "1295e14d",
   "metadata": {},
   "outputs": [],
   "source": [
    "def create_agents() -> List[Agent]:\n",
    "    initial_observation = env.reset()\n",
    "    agents = []\n",
    "    for key in initial_observation:\n",
    "        agents.append(\n",
    "            Agent(\n",
    "                recursive_obs_dict_to_spaces_dict(initial_observation[0]),\n",
    "                env.action_space[0],\n",
    "                id = key\n",
    "            )\n",
    "        )\n",
    "    return agents"
   ]
  },
  {
   "cell_type": "code",
   "execution_count": 8,
   "id": "087fe5d1",
   "metadata": {},
   "outputs": [],
   "source": [
    "agents = create_agents()"
   ]
  },
  {
   "cell_type": "code",
   "execution_count": 9,
   "id": "92ff45a7",
   "metadata": {},
   "outputs": [],
   "source": [
    "# Adapted from https://huggingface.co/deep-rl-course/unit4/hands-on?fw=pt\n",
    "def reinforce(agents : List[Agent], \n",
    "              n_training_episodes : int, \n",
    "              gamma : float) -> None:\n",
    "    \n",
    "    optimizers = {agent.id : torch.optim.Adam(agent.nets[0].parameters(), lr=.0005) for agent in agents}\n",
    "    \n",
    "    scores_deque = deque(maxlen=100)\n",
    "    scores = []\n",
    "    \n",
    "    for i_episode in tqdm(range(1, n_training_episodes+1)):\n",
    "        saved_log_probs = {agent.id : [] for agent in agents}\n",
    "        rewards = {agent.id : [] for agent in agents}\n",
    "        state = env.reset()\n",
    "        \n",
    "        # Generate a whole episode\n",
    "        for t in range(env.episode_length):\n",
    "            \n",
    "            collective_action = {}\n",
    "            \n",
    "            for agent in agents:\n",
    "                action, log_prob = agent.act(0, state[agent.id])\n",
    "                saved_log_probs[agent.id].append(log_prob)\n",
    "                collective_action[agent.id] = np.array(action)\n",
    "                \n",
    "            state, reward, done, _ = env.step(collective_action)\n",
    "            \n",
    "            for agent in agents:\n",
    "                rewards[agent.id].append(reward[agent.id])\n",
    "        \n",
    "        returns = {agent.id : deque(maxlen=env.episode_length) for agent in agents} \n",
    "        \n",
    "        # Calculate discounted returns\n",
    "        for t in range(env.episode_length)[::-1]:\n",
    "            for agent in agents:\n",
    "                disc_return_t = (returns[agent.id][0] if len(returns[agent.id])>0 else 0)\n",
    "                returns[agent.id].appendleft( gamma*disc_return_t + rewards[agent.id][t]   )    \n",
    "            \n",
    "        eps = np.finfo(np.float32).eps.item()\n",
    "        \n",
    "        # Standardize returns\n",
    "        returns = {agent.id : torch.tensor(returns[agent.id]) for agent in agents}\n",
    "        for agent in agents:\n",
    "            returns[agent.id] = (returns[agent.id] - returns[agent.id].mean()) / (returns[agent.id].std() + eps)\n",
    "        \n",
    "        # Calculate loss and update weights\n",
    "        policy_loss = {agent.id : [] for agent in agents}\n",
    "        for agent in agents:\n",
    "            for log_prob, disc_return in zip(saved_log_probs[agent.id], returns[agent.id]):\n",
    "                policy_loss[agent.id].append(-log_prob * disc_return)\n",
    "            loss = torch.cat(policy_loss[agent.id]).sum()\n",
    "            \n",
    "            optimizers[agent.id].zero_grad()\n",
    "            loss.backward()\n",
    "            optimizers[agent.id].step()"
   ]
  },
  {
   "cell_type": "code",
   "execution_count": 10,
   "id": "7e8fce2a",
   "metadata": {},
   "outputs": [
    {
     "name": "stderr",
     "output_type": "stream",
     "text": [
      "100%|██████████████████████████████████████████████████████| 500/500 [03:40<00:00,  2.27it/s]\n"
     ]
    }
   ],
   "source": [
    "reinforce(agents, n_training_episodes = 500, gamma = 1.)"
   ]
  },
  {
   "cell_type": "code",
   "execution_count": null,
   "id": "c70e360c",
   "metadata": {},
   "outputs": [],
   "source": [
    "def evaluate_agents(agents : List[Agent]) -> dict:\n",
    "    state = env.reset()\n",
    "    for i in range(env.episode_length):\n",
    "        collective_action = {}\n",
    "    \n",
    "        for agent in agents:\n",
    "            action, _ = agent.act(0, state[agent.id])\n",
    "            collective_action[agent.id] = np.array(action)\n",
    "                \n",
    "        state, reward, done, _ = env.step(collective_action)\n",
    "    return env.global_state"
   ]
  },
  {
   "cell_type": "code",
   "execution_count": null,
   "id": "d7d13b67",
   "metadata": {},
   "outputs": [],
   "source": [
    "def baseline() -> dict:\n",
    "    return evaluate_agents(create_agents())"
   ]
  },
  {
   "cell_type": "code",
   "execution_count": null,
   "id": "15180fe9",
   "metadata": {},
   "outputs": [],
   "source": [
    "training_rewards = evaluate_agents(agents)[\"reward_all_regions\"][\"value\"]"
   ]
  },
  {
   "cell_type": "code",
   "execution_count": null,
   "id": "46b1a696",
   "metadata": {},
   "outputs": [],
   "source": [
    "baseline_rewards = baseline()[\"reward_all_regions\"][\"value\"]"
   ]
  },
  {
   "cell_type": "code",
   "execution_count": null,
   "id": "189ce4c1",
   "metadata": {},
   "outputs": [],
   "source": [
    "training_rewards #[i,j] -> j = agent id, i = timestep"
   ]
  },
  {
   "cell_type": "code",
   "execution_count": null,
   "id": "dad3ffe3",
   "metadata": {},
   "outputs": [],
   "source": [
    "baseline_rewards"
   ]
  }
 ],
 "metadata": {
  "kernelspec": {
   "display_name": "venv",
   "language": "python",
   "name": "venv"
  },
  "language_info": {
   "codemirror_mode": {
    "name": "ipython",
    "version": 3
   },
   "file_extension": ".py",
   "mimetype": "text/x-python",
   "name": "python",
   "nbconvert_exporter": "python",
   "pygments_lexer": "ipython3",
   "version": "3.7.16"
  }
 },
 "nbformat": 4,
 "nbformat_minor": 5
}
